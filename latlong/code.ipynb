{
 "cells": [
  {
   "cell_type": "code",
   "execution_count": 1,
   "id": "1c969214",
   "metadata": {
    "_cell_guid": "b1076dfc-b9ad-4769-8c92-a6c4dae69d19",
    "_uuid": "8f2839f25d086af736a60e9eeb907d3b93b6e0e5",
    "execution": {
     "iopub.execute_input": "2025-05-04T04:00:48.121855Z",
     "iopub.status.busy": "2025-05-04T04:00:48.121527Z",
     "iopub.status.idle": "2025-05-04T08:12:37.495539Z",
     "shell.execute_reply": "2025-05-04T08:12:37.494290Z"
    },
    "papermill": {
     "duration": 15109.379312,
     "end_time": "2025-05-04T08:12:37.497375",
     "exception": false,
     "start_time": "2025-05-04T04:00:48.118063",
     "status": "completed"
    },
    "tags": []
   },
   "outputs": [
    {
     "name": "stderr",
     "output_type": "stream",
     "text": [
      "/usr/local/lib/python3.11/dist-packages/timm/models/layers/__init__.py:48: FutureWarning: Importing from timm.models.layers is deprecated, please import via timm.layers\n",
      "  warnings.warn(f\"Importing from {__name__} is deprecated, please import via timm.layers\", FutureWarning)\n",
      "Downloading: \"https://github.com/facebookresearch/dinov2/zipball/main\" to /root/.cache/torch/hub/main.zip\n",
      "/root/.cache/torch/hub/facebookresearch_dinov2_main/dinov2/layers/swiglu_ffn.py:51: UserWarning: xFormers is not available (SwiGLU)\n",
      "  warnings.warn(\"xFormers is not available (SwiGLU)\")\n",
      "/root/.cache/torch/hub/facebookresearch_dinov2_main/dinov2/layers/attention.py:33: UserWarning: xFormers is not available (Attention)\n",
      "  warnings.warn(\"xFormers is not available (Attention)\")\n",
      "/root/.cache/torch/hub/facebookresearch_dinov2_main/dinov2/layers/block.py:40: UserWarning: xFormers is not available (Block)\n",
      "  warnings.warn(\"xFormers is not available (Block)\")\n",
      "Downloading: \"https://dl.fbaipublicfiles.com/dinov2/dinov2_vitb14/dinov2_vitb14_pretrain.pth\" to /root/.cache/torch/hub/checkpoints/dinov2_vitb14_pretrain.pth\n",
      "100%|██████████| 330M/330M [00:01<00:00, 206MB/s]\n",
      "/tmp/ipykernel_19/221104898.py:140: FutureWarning: `torch.cuda.amp.GradScaler(args...)` is deprecated. Please use `torch.amp.GradScaler('cuda', args...)` instead.\n",
      "  scaler = GradScaler()\n",
      "Train 1:   0%|          | 0/1617 [00:00<?, ?it/s]/tmp/ipykernel_19/221104898.py:148: FutureWarning: `torch.cuda.amp.autocast(args...)` is deprecated. Please use `torch.amp.autocast('cuda', args...)` instead.\n",
      "  with autocast(): pred_norm = model(imgs); loss = criterion(pred_norm, t_norm)\n",
      "Train 1: 100%|██████████| 1617/1617 [02:19<00:00, 11.58it/s, norm_loss=0.2935]\n",
      "Val 1: 100%|██████████| 91/91 [00:08<00:00, 10.93it/s, denorm_avg_mse=389241.6447]\n"
     ]
    },
    {
     "name": "stdout",
     "output_type": "stream",
     "text": [
      "Epoch 1: Val norm_loss 0.1588, Lat MSE 265572.6290, Lon MSE 512910.6604, Avg MSE 389241.6447\n"
     ]
    },
    {
     "name": "stderr",
     "output_type": "stream",
     "text": [
      "Train 2: 100%|██████████| 1617/1617 [02:22<00:00, 11.31it/s, norm_loss=0.1388]\n",
      "Val 2: 100%|██████████| 91/91 [00:07<00:00, 11.67it/s, denorm_avg_mse=213867.3997]\n"
     ]
    },
    {
     "name": "stdout",
     "output_type": "stream",
     "text": [
      "Epoch 2: Val norm_loss 0.0896, Lat MSE 168836.0067, Lon MSE 258898.7928, Avg MSE 213867.3997\n"
     ]
    },
    {
     "name": "stderr",
     "output_type": "stream",
     "text": [
      "Train 3: 100%|██████████| 1617/1617 [02:23<00:00, 11.29it/s, norm_loss=0.0987]\n",
      "Val 3: 100%|██████████| 91/91 [00:07<00:00, 11.79it/s, denorm_avg_mse=155240.7199]\n"
     ]
    },
    {
     "name": "stdout",
     "output_type": "stream",
     "text": [
      "Epoch 3: Val norm_loss 0.0688, Lat MSE 146493.7989, Lon MSE 163987.6410, Avg MSE 155240.7199\n"
     ]
    },
    {
     "name": "stderr",
     "output_type": "stream",
     "text": [
      "Train 4: 100%|██████████| 1617/1617 [02:22<00:00, 11.34it/s, norm_loss=0.0738]\n",
      "Val 4: 100%|██████████| 91/91 [00:07<00:00, 11.85it/s, denorm_avg_mse=129617.7187]\n"
     ]
    },
    {
     "name": "stdout",
     "output_type": "stream",
     "text": [
      "Epoch 4: Val norm_loss 0.0567, Lat MSE 102967.1384, Lon MSE 156268.2990, Avg MSE 129617.7187\n"
     ]
    },
    {
     "name": "stderr",
     "output_type": "stream",
     "text": [
      "Train 5: 100%|██████████| 1617/1617 [02:22<00:00, 11.31it/s, norm_loss=0.0615]\n",
      "Val 5: 100%|██████████| 91/91 [00:07<00:00, 11.65it/s, denorm_avg_mse=83186.1761]\n"
     ]
    },
    {
     "name": "stdout",
     "output_type": "stream",
     "text": [
      "Epoch 5: Val norm_loss 0.0328, Lat MSE 57998.4043, Lon MSE 108373.9479, Avg MSE 83186.1761\n"
     ]
    },
    {
     "name": "stderr",
     "output_type": "stream",
     "text": [
      "Train 6: 100%|██████████| 1617/1617 [02:22<00:00, 11.31it/s, norm_loss=0.0508]\n",
      "Val 6: 100%|██████████| 91/91 [00:07<00:00, 11.64it/s, denorm_avg_mse=95408.0549]\n"
     ]
    },
    {
     "name": "stdout",
     "output_type": "stream",
     "text": [
      "Epoch 6: Val norm_loss 0.0389, Lat MSE 64044.3666, Lon MSE 126771.7431, Avg MSE 95408.0549\n"
     ]
    },
    {
     "name": "stderr",
     "output_type": "stream",
     "text": [
      "Train 7: 100%|██████████| 1617/1617 [02:22<00:00, 11.35it/s, norm_loss=0.0424]\n",
      "Val 7: 100%|██████████| 91/91 [00:07<00:00, 11.72it/s, denorm_avg_mse=79130.1605]\n"
     ]
    },
    {
     "name": "stdout",
     "output_type": "stream",
     "text": [
      "Epoch 7: Val norm_loss 0.0353, Lat MSE 66784.2336, Lon MSE 91476.0874, Avg MSE 79130.1605\n"
     ]
    },
    {
     "name": "stderr",
     "output_type": "stream",
     "text": [
      "Train 8: 100%|██████████| 1617/1617 [02:23<00:00, 11.31it/s, norm_loss=0.0386]\n",
      "Val 8: 100%|██████████| 91/91 [00:07<00:00, 11.70it/s, denorm_avg_mse=68714.0834]\n"
     ]
    },
    {
     "name": "stdout",
     "output_type": "stream",
     "text": [
      "Epoch 8: Val norm_loss 0.0295, Lat MSE 49244.6990, Lon MSE 88183.4678, Avg MSE 68714.0834\n"
     ]
    },
    {
     "name": "stderr",
     "output_type": "stream",
     "text": [
      "Train 9: 100%|██████████| 1617/1617 [02:22<00:00, 11.33it/s, norm_loss=0.0341]\n",
      "Val 9: 100%|██████████| 91/91 [00:07<00:00, 11.58it/s, denorm_avg_mse=79761.8983]\n"
     ]
    },
    {
     "name": "stdout",
     "output_type": "stream",
     "text": [
      "Epoch 9: Val norm_loss 0.0316, Lat MSE 65058.8902, Lon MSE 94464.9064, Avg MSE 79761.8983\n"
     ]
    },
    {
     "name": "stderr",
     "output_type": "stream",
     "text": [
      "Train 10: 100%|██████████| 1617/1617 [02:22<00:00, 11.35it/s, norm_loss=0.0311]\n",
      "Val 10: 100%|██████████| 91/91 [00:07<00:00, 11.70it/s, denorm_avg_mse=52538.5430]\n"
     ]
    },
    {
     "name": "stdout",
     "output_type": "stream",
     "text": [
      "Epoch 10: Val norm_loss 0.0234, Lat MSE 42094.4145, Lon MSE 62982.6715, Avg MSE 52538.5430\n"
     ]
    },
    {
     "name": "stderr",
     "output_type": "stream",
     "text": [
      "Train 11: 100%|██████████| 1617/1617 [02:22<00:00, 11.32it/s, norm_loss=0.0292]\n",
      "Val 11: 100%|██████████| 91/91 [00:07<00:00, 11.76it/s, denorm_avg_mse=54758.4784]\n"
     ]
    },
    {
     "name": "stdout",
     "output_type": "stream",
     "text": [
      "Epoch 11: Val norm_loss 0.0243, Lat MSE 47033.6026, Lon MSE 62483.3541, Avg MSE 54758.4784\n"
     ]
    },
    {
     "name": "stderr",
     "output_type": "stream",
     "text": [
      "Train 12: 100%|██████████| 1617/1617 [02:22<00:00, 11.33it/s, norm_loss=0.0246]\n",
      "Val 12: 100%|██████████| 91/91 [00:07<00:00, 11.72it/s, denorm_avg_mse=63318.8801]\n"
     ]
    },
    {
     "name": "stdout",
     "output_type": "stream",
     "text": [
      "Epoch 12: Val norm_loss 0.0278, Lat MSE 65137.0746, Lon MSE 61500.6856, Avg MSE 63318.8801\n"
     ]
    },
    {
     "name": "stderr",
     "output_type": "stream",
     "text": [
      "Train 13: 100%|██████████| 1617/1617 [02:22<00:00, 11.33it/s, norm_loss=0.0222]\n",
      "Val 13: 100%|██████████| 91/91 [00:07<00:00, 11.74it/s, denorm_avg_mse=63808.1091]\n"
     ]
    },
    {
     "name": "stdout",
     "output_type": "stream",
     "text": [
      "Epoch 13: Val norm_loss 0.0274, Lat MSE 43792.4090, Lon MSE 83823.8091, Avg MSE 63808.1091\n"
     ]
    },
    {
     "name": "stderr",
     "output_type": "stream",
     "text": [
      "Train 14: 100%|██████████| 1617/1617 [02:22<00:00, 11.33it/s, norm_loss=0.0211]\n",
      "Val 14: 100%|██████████| 91/91 [00:07<00:00, 11.79it/s, denorm_avg_mse=61796.3288]\n"
     ]
    },
    {
     "name": "stdout",
     "output_type": "stream",
     "text": [
      "Epoch 14: Val norm_loss 0.0264, Lat MSE 52688.3602, Lon MSE 70904.2973, Avg MSE 61796.3288\n"
     ]
    },
    {
     "name": "stderr",
     "output_type": "stream",
     "text": [
      "Train 15: 100%|██████████| 1617/1617 [02:22<00:00, 11.31it/s, norm_loss=0.0191]\n",
      "Val 15: 100%|██████████| 91/91 [00:07<00:00, 11.71it/s, denorm_avg_mse=53972.7384]\n"
     ]
    },
    {
     "name": "stdout",
     "output_type": "stream",
     "text": [
      "Epoch 15: Val norm_loss 0.0231, Lat MSE 53556.0499, Lon MSE 54389.4270, Avg MSE 53972.7384\n"
     ]
    },
    {
     "name": "stderr",
     "output_type": "stream",
     "text": [
      "Train 16: 100%|██████████| 1617/1617 [02:22<00:00, 11.34it/s, norm_loss=0.0180]\n",
      "Val 16: 100%|██████████| 91/91 [00:07<00:00, 11.77it/s, denorm_avg_mse=69300.8802]\n"
     ]
    },
    {
     "name": "stdout",
     "output_type": "stream",
     "text": [
      "Epoch 16: Val norm_loss 0.0269, Lat MSE 54393.2092, Lon MSE 84208.5512, Avg MSE 69300.8802\n"
     ]
    },
    {
     "name": "stderr",
     "output_type": "stream",
     "text": [
      "Train 17: 100%|██████████| 1617/1617 [02:22<00:00, 11.32it/s, norm_loss=0.0163]\n",
      "Val 17: 100%|██████████| 91/91 [00:07<00:00, 11.63it/s, denorm_avg_mse=40434.2167]\n"
     ]
    },
    {
     "name": "stdout",
     "output_type": "stream",
     "text": [
      "Epoch 17: Val norm_loss 0.0181, Lat MSE 35217.6709, Lon MSE 45650.7625, Avg MSE 40434.2167\n"
     ]
    },
    {
     "name": "stderr",
     "output_type": "stream",
     "text": [
      "Train 18: 100%|██████████| 1617/1617 [02:22<00:00, 11.35it/s, norm_loss=0.0151]\n",
      "Val 18: 100%|██████████| 91/91 [00:07<00:00, 11.71it/s, denorm_avg_mse=31931.6056]\n"
     ]
    },
    {
     "name": "stdout",
     "output_type": "stream",
     "text": [
      "Epoch 18: Val norm_loss 0.0145, Lat MSE 27074.3745, Lon MSE 36788.8367, Avg MSE 31931.6056\n"
     ]
    },
    {
     "name": "stderr",
     "output_type": "stream",
     "text": [
      "Train 19: 100%|██████████| 1617/1617 [02:22<00:00, 11.33it/s, norm_loss=0.0137]\n",
      "Val 19: 100%|██████████| 91/91 [00:07<00:00, 11.66it/s, denorm_avg_mse=40319.1942]\n"
     ]
    },
    {
     "name": "stdout",
     "output_type": "stream",
     "text": [
      "Epoch 19: Val norm_loss 0.0180, Lat MSE 33450.1330, Lon MSE 47188.2555, Avg MSE 40319.1942\n"
     ]
    },
    {
     "name": "stderr",
     "output_type": "stream",
     "text": [
      "Train 20: 100%|██████████| 1617/1617 [02:22<00:00, 11.32it/s, norm_loss=0.0130]\n",
      "Val 20: 100%|██████████| 91/91 [00:07<00:00, 11.76it/s, denorm_avg_mse=33846.7898]\n"
     ]
    },
    {
     "name": "stdout",
     "output_type": "stream",
     "text": [
      "Epoch 20: Val norm_loss 0.0152, Lat MSE 29127.0571, Lon MSE 38566.5224, Avg MSE 33846.7898\n"
     ]
    },
    {
     "name": "stderr",
     "output_type": "stream",
     "text": [
      "Train 21: 100%|██████████| 1617/1617 [02:22<00:00, 11.36it/s, norm_loss=0.0122]\n",
      "Val 21: 100%|██████████| 91/91 [00:07<00:00, 11.83it/s, denorm_avg_mse=34279.4375]\n"
     ]
    },
    {
     "name": "stdout",
     "output_type": "stream",
     "text": [
      "Epoch 21: Val norm_loss 0.0159, Lat MSE 33208.1393, Lon MSE 35350.7357, Avg MSE 34279.4375\n"
     ]
    },
    {
     "name": "stderr",
     "output_type": "stream",
     "text": [
      "Train 22: 100%|██████████| 1617/1617 [02:22<00:00, 11.34it/s, norm_loss=0.0123]\n",
      "Val 22: 100%|██████████| 91/91 [00:07<00:00, 11.56it/s, denorm_avg_mse=29382.7702]\n"
     ]
    },
    {
     "name": "stdout",
     "output_type": "stream",
     "text": [
      "Epoch 22: Val norm_loss 0.0133, Lat MSE 26842.8237, Lon MSE 31922.7166, Avg MSE 29382.7702\n"
     ]
    },
    {
     "name": "stderr",
     "output_type": "stream",
     "text": [
      "Train 23: 100%|██████████| 1617/1617 [02:22<00:00, 11.32it/s, norm_loss=0.0114]\n",
      "Val 23: 100%|██████████| 91/91 [00:07<00:00, 11.73it/s, denorm_avg_mse=27059.0905]\n"
     ]
    },
    {
     "name": "stdout",
     "output_type": "stream",
     "text": [
      "Epoch 23: Val norm_loss 0.0123, Lat MSE 23761.3062, Lon MSE 30356.8748, Avg MSE 27059.0905\n"
     ]
    },
    {
     "name": "stderr",
     "output_type": "stream",
     "text": [
      "Train 24: 100%|██████████| 1617/1617 [02:22<00:00, 11.36it/s, norm_loss=0.0113]\n",
      "Val 24: 100%|██████████| 91/91 [00:07<00:00, 11.57it/s, denorm_avg_mse=31130.1877]\n"
     ]
    },
    {
     "name": "stdout",
     "output_type": "stream",
     "text": [
      "Epoch 24: Val norm_loss 0.0138, Lat MSE 25009.2830, Lon MSE 37251.0925, Avg MSE 31130.1877\n"
     ]
    },
    {
     "name": "stderr",
     "output_type": "stream",
     "text": [
      "Train 25: 100%|██████████| 1617/1617 [02:22<00:00, 11.31it/s, norm_loss=0.0102]\n",
      "Val 25: 100%|██████████| 91/91 [00:07<00:00, 11.73it/s, denorm_avg_mse=26920.8889]\n"
     ]
    },
    {
     "name": "stdout",
     "output_type": "stream",
     "text": [
      "Epoch 25: Val norm_loss 0.0121, Lat MSE 22627.2811, Lon MSE 31214.4968, Avg MSE 26920.8889\n"
     ]
    },
    {
     "name": "stderr",
     "output_type": "stream",
     "text": [
      "Train 26: 100%|██████████| 1617/1617 [02:22<00:00, 11.32it/s, norm_loss=0.0102]\n",
      "Val 26: 100%|██████████| 91/91 [00:07<00:00, 11.78it/s, denorm_avg_mse=26007.6838]\n"
     ]
    },
    {
     "name": "stdout",
     "output_type": "stream",
     "text": [
      "Epoch 26: Val norm_loss 0.0118, Lat MSE 22904.7363, Lon MSE 29110.6313, Avg MSE 26007.6838\n"
     ]
    },
    {
     "name": "stderr",
     "output_type": "stream",
     "text": [
      "Train 27: 100%|██████████| 1617/1617 [02:22<00:00, 11.34it/s, norm_loss=0.0099]\n",
      "Val 27: 100%|██████████| 91/91 [00:07<00:00, 11.72it/s, denorm_avg_mse=27013.3191]\n"
     ]
    },
    {
     "name": "stdout",
     "output_type": "stream",
     "text": [
      "Epoch 27: Val norm_loss 0.0122, Lat MSE 23504.9636, Lon MSE 30521.6745, Avg MSE 27013.3191\n"
     ]
    },
    {
     "name": "stderr",
     "output_type": "stream",
     "text": [
      "Train 28: 100%|██████████| 1617/1617 [02:22<00:00, 11.33it/s, norm_loss=0.0094]\n",
      "Val 28: 100%|██████████| 91/91 [00:07<00:00, 11.66it/s, denorm_avg_mse=25796.1470]\n"
     ]
    },
    {
     "name": "stdout",
     "output_type": "stream",
     "text": [
      "Epoch 28: Val norm_loss 0.0117, Lat MSE 22440.4324, Lon MSE 29151.8615, Avg MSE 25796.1470\n"
     ]
    },
    {
     "name": "stderr",
     "output_type": "stream",
     "text": [
      "Train 29: 100%|██████████| 1617/1617 [02:22<00:00, 11.31it/s, norm_loss=0.0094]\n",
      "Val 29: 100%|██████████| 91/91 [00:07<00:00, 11.67it/s, denorm_avg_mse=25225.5365]\n"
     ]
    },
    {
     "name": "stdout",
     "output_type": "stream",
     "text": [
      "Epoch 29: Val norm_loss 0.0114, Lat MSE 22025.4173, Lon MSE 28425.6557, Avg MSE 25225.5365\n"
     ]
    },
    {
     "name": "stderr",
     "output_type": "stream",
     "text": [
      "Train 30: 100%|██████████| 1617/1617 [02:22<00:00, 11.33it/s, norm_loss=0.0095]\n",
      "Val 30: 100%|██████████| 91/91 [00:07<00:00, 11.73it/s, denorm_avg_mse=25420.2373]\n"
     ]
    },
    {
     "name": "stdout",
     "output_type": "stream",
     "text": [
      "Epoch 30: Val norm_loss 0.0115, Lat MSE 22133.2324, Lon MSE 28707.2422, Avg MSE 25420.2373\n"
     ]
    },
    {
     "name": "stderr",
     "output_type": "stream",
     "text": [
      "Train 31: 100%|██████████| 1617/1617 [02:22<00:00, 11.31it/s, norm_loss=0.0097]\n",
      "Val 31: 100%|██████████| 91/91 [00:07<00:00, 11.64it/s, denorm_avg_mse=25412.4770]\n"
     ]
    },
    {
     "name": "stdout",
     "output_type": "stream",
     "text": [
      "Epoch 31: Val norm_loss 0.0115, Lat MSE 22124.0729, Lon MSE 28700.8812, Avg MSE 25412.4770\n"
     ]
    },
    {
     "name": "stderr",
     "output_type": "stream",
     "text": [
      "Train 32: 100%|██████████| 1617/1617 [02:22<00:00, 11.34it/s, norm_loss=0.0092]\n",
      "Val 32: 100%|██████████| 91/91 [00:07<00:00, 11.87it/s, denorm_avg_mse=25446.0501]\n"
     ]
    },
    {
     "name": "stdout",
     "output_type": "stream",
     "text": [
      "Epoch 32: Val norm_loss 0.0115, Lat MSE 22257.9263, Lon MSE 28634.1739, Avg MSE 25446.0501\n"
     ]
    },
    {
     "name": "stderr",
     "output_type": "stream",
     "text": [
      "Train 33: 100%|██████████| 1617/1617 [02:22<00:00, 11.33it/s, norm_loss=0.0095]\n",
      "Val 33: 100%|██████████| 91/91 [00:07<00:00, 11.77it/s, denorm_avg_mse=25654.1940]\n"
     ]
    },
    {
     "name": "stdout",
     "output_type": "stream",
     "text": [
      "Epoch 33: Val norm_loss 0.0116, Lat MSE 22353.4041, Lon MSE 28954.9838, Avg MSE 25654.1940\n"
     ]
    },
    {
     "name": "stderr",
     "output_type": "stream",
     "text": [
      "Train 34: 100%|██████████| 1617/1617 [02:22<00:00, 11.32it/s, norm_loss=0.0097]\n",
      "Val 34: 100%|██████████| 91/91 [00:07<00:00, 11.64it/s, denorm_avg_mse=26416.5156]\n"
     ]
    },
    {
     "name": "stdout",
     "output_type": "stream",
     "text": [
      "Epoch 34: Val norm_loss 0.0119, Lat MSE 22309.4682, Lon MSE 30523.5629, Avg MSE 26416.5156\n"
     ]
    },
    {
     "name": "stderr",
     "output_type": "stream",
     "text": [
      "Train 35: 100%|██████████| 1617/1617 [02:22<00:00, 11.35it/s, norm_loss=0.0095]\n",
      "Val 35: 100%|██████████| 91/91 [00:07<00:00, 11.76it/s, denorm_avg_mse=26146.3107]\n"
     ]
    },
    {
     "name": "stdout",
     "output_type": "stream",
     "text": [
      "Epoch 35: Val norm_loss 0.0118, Lat MSE 22887.2572, Lon MSE 29405.3643, Avg MSE 26146.3107\n"
     ]
    },
    {
     "name": "stderr",
     "output_type": "stream",
     "text": [
      "Train 36: 100%|██████████| 1617/1617 [02:23<00:00, 11.30it/s, norm_loss=0.0097]\n",
      "Val 36: 100%|██████████| 91/91 [00:07<00:00, 11.65it/s, denorm_avg_mse=29001.0095]\n"
     ]
    },
    {
     "name": "stdout",
     "output_type": "stream",
     "text": [
      "Epoch 36: Val norm_loss 0.0130, Lat MSE 24162.9894, Lon MSE 33839.0296, Avg MSE 29001.0095\n"
     ]
    },
    {
     "name": "stderr",
     "output_type": "stream",
     "text": [
      "Train 37: 100%|██████████| 1617/1617 [02:22<00:00, 11.32it/s, norm_loss=0.0095]\n",
      "Val 37: 100%|██████████| 91/91 [00:07<00:00, 11.78it/s, denorm_avg_mse=27807.4521]\n"
     ]
    },
    {
     "name": "stdout",
     "output_type": "stream",
     "text": [
      "Epoch 37: Val norm_loss 0.0125, Lat MSE 23617.3389, Lon MSE 31997.5653, Avg MSE 27807.4521\n"
     ]
    },
    {
     "name": "stderr",
     "output_type": "stream",
     "text": [
      "Train 38: 100%|██████████| 1617/1617 [02:22<00:00, 11.35it/s, norm_loss=0.0100]\n",
      "Val 38: 100%|██████████| 91/91 [00:07<00:00, 11.79it/s, denorm_avg_mse=28563.0932]\n"
     ]
    },
    {
     "name": "stdout",
     "output_type": "stream",
     "text": [
      "Epoch 38: Val norm_loss 0.0127, Lat MSE 23495.3702, Lon MSE 33630.8163, Avg MSE 28563.0932\n"
     ]
    },
    {
     "name": "stderr",
     "output_type": "stream",
     "text": [
      "Train 39: 100%|██████████| 1617/1617 [02:22<00:00, 11.33it/s, norm_loss=0.0098]\n",
      "Val 39: 100%|██████████| 91/91 [00:07<00:00, 11.72it/s, denorm_avg_mse=28786.5138]\n"
     ]
    },
    {
     "name": "stdout",
     "output_type": "stream",
     "text": [
      "Epoch 39: Val norm_loss 0.0128, Lat MSE 22939.5261, Lon MSE 34633.5015, Avg MSE 28786.5138\n"
     ]
    },
    {
     "name": "stderr",
     "output_type": "stream",
     "text": [
      "Train 40: 100%|██████████| 1617/1617 [02:23<00:00, 11.30it/s, norm_loss=0.0109]\n",
      "Val 40: 100%|██████████| 91/91 [00:07<00:00, 11.60it/s, denorm_avg_mse=27209.7980]\n"
     ]
    },
    {
     "name": "stdout",
     "output_type": "stream",
     "text": [
      "Epoch 40: Val norm_loss 0.0121, Lat MSE 22305.0136, Lon MSE 32114.5823, Avg MSE 27209.7980\n"
     ]
    },
    {
     "name": "stderr",
     "output_type": "stream",
     "text": [
      "Train 41: 100%|██████████| 1617/1617 [02:22<00:00, 11.35it/s, norm_loss=0.0108]\n",
      "Val 41: 100%|██████████| 91/91 [00:07<00:00, 11.68it/s, denorm_avg_mse=27883.8710]\n"
     ]
    },
    {
     "name": "stdout",
     "output_type": "stream",
     "text": [
      "Epoch 41: Val norm_loss 0.0126, Lat MSE 23996.5537, Lon MSE 31771.1883, Avg MSE 27883.8710\n"
     ]
    },
    {
     "name": "stderr",
     "output_type": "stream",
     "text": [
      "Train 42: 100%|██████████| 1617/1617 [02:22<00:00, 11.31it/s, norm_loss=0.0114]\n",
      "Val 42: 100%|██████████| 91/91 [00:07<00:00, 11.68it/s, denorm_avg_mse=27125.2879]\n"
     ]
    },
    {
     "name": "stdout",
     "output_type": "stream",
     "text": [
      "Epoch 42: Val norm_loss 0.0124, Lat MSE 24376.2863, Lon MSE 29874.2895, Avg MSE 27125.2879\n"
     ]
    },
    {
     "name": "stderr",
     "output_type": "stream",
     "text": [
      "Train 43: 100%|██████████| 1617/1617 [02:22<00:00, 11.31it/s, norm_loss=0.0117]\n",
      "Val 43: 100%|██████████| 91/91 [00:07<00:00, 11.71it/s, denorm_avg_mse=33090.7854]\n"
     ]
    },
    {
     "name": "stdout",
     "output_type": "stream",
     "text": [
      "Epoch 43: Val norm_loss 0.0152, Lat MSE 32891.7724, Lon MSE 33289.7984, Avg MSE 33090.7854\n"
     ]
    },
    {
     "name": "stderr",
     "output_type": "stream",
     "text": [
      "Train 44: 100%|██████████| 1617/1617 [02:22<00:00, 11.35it/s, norm_loss=0.0131]\n",
      "Val 44: 100%|██████████| 91/91 [00:07<00:00, 11.71it/s, denorm_avg_mse=32826.6992]\n"
     ]
    },
    {
     "name": "stdout",
     "output_type": "stream",
     "text": [
      "Epoch 44: Val norm_loss 0.0149, Lat MSE 28140.3697, Lon MSE 37513.0287, Avg MSE 32826.6992\n"
     ]
    },
    {
     "name": "stderr",
     "output_type": "stream",
     "text": [
      "Train 45: 100%|██████████| 1617/1617 [02:22<00:00, 11.33it/s, norm_loss=0.0127]\n",
      "Val 45: 100%|██████████| 91/91 [00:07<00:00, 11.61it/s, denorm_avg_mse=30853.8316]\n"
     ]
    },
    {
     "name": "stdout",
     "output_type": "stream",
     "text": [
      "Epoch 45: Val norm_loss 0.0138, Lat MSE 25311.1654, Lon MSE 36396.4978, Avg MSE 30853.8316\n"
     ]
    },
    {
     "name": "stderr",
     "output_type": "stream",
     "text": [
      "Train 46: 100%|██████████| 1617/1617 [02:22<00:00, 11.33it/s, norm_loss=0.0139]\n",
      "Val 46: 100%|██████████| 91/91 [00:07<00:00, 11.71it/s, denorm_avg_mse=48617.6054]\n"
     ]
    },
    {
     "name": "stdout",
     "output_type": "stream",
     "text": [
      "Epoch 46: Val norm_loss 0.0178, Lat MSE 28601.1733, Lon MSE 68634.0375, Avg MSE 48617.6054\n"
     ]
    },
    {
     "name": "stderr",
     "output_type": "stream",
     "text": [
      "Train 47: 100%|██████████| 1617/1617 [02:25<00:00, 11.12it/s, norm_loss=0.0142]\n",
      "Val 47: 100%|██████████| 91/91 [00:07<00:00, 11.79it/s, denorm_avg_mse=57235.8752]\n"
     ]
    },
    {
     "name": "stdout",
     "output_type": "stream",
     "text": [
      "Epoch 47: Val norm_loss 0.0198, Lat MSE 34961.1566, Lon MSE 79510.5938, Avg MSE 57235.8752\n"
     ]
    },
    {
     "name": "stderr",
     "output_type": "stream",
     "text": [
      "Train 48: 100%|██████████| 1617/1617 [02:22<00:00, 11.33it/s, norm_loss=0.0150]\n",
      "Val 48: 100%|██████████| 91/91 [00:07<00:00, 11.78it/s, denorm_avg_mse=33756.0852]\n"
     ]
    },
    {
     "name": "stdout",
     "output_type": "stream",
     "text": [
      "Epoch 48: Val norm_loss 0.0155, Lat MSE 30754.2176, Lon MSE 36757.9527, Avg MSE 33756.0852\n"
     ]
    },
    {
     "name": "stderr",
     "output_type": "stream",
     "text": [
      "Train 49: 100%|██████████| 1617/1617 [02:22<00:00, 11.33it/s, norm_loss=0.0151]\n",
      "Val 49: 100%|██████████| 91/91 [00:07<00:00, 11.81it/s, denorm_avg_mse=50723.8681]\n"
     ]
    },
    {
     "name": "stdout",
     "output_type": "stream",
     "text": [
      "Epoch 49: Val norm_loss 0.0226, Lat MSE 43574.9090, Lon MSE 57872.8272, Avg MSE 50723.8681\n"
     ]
    },
    {
     "name": "stderr",
     "output_type": "stream",
     "text": [
      "Train 50: 100%|██████████| 1617/1617 [02:22<00:00, 11.33it/s, norm_loss=0.0161]\n",
      "Val 50: 100%|██████████| 91/91 [00:07<00:00, 11.71it/s, denorm_avg_mse=43683.5781]\n"
     ]
    },
    {
     "name": "stdout",
     "output_type": "stream",
     "text": [
      "Epoch 50: Val norm_loss 0.0174, Lat MSE 29390.3672, Lon MSE 57976.7889, Avg MSE 43683.5781\n"
     ]
    },
    {
     "name": "stderr",
     "output_type": "stream",
     "text": [
      "Train 51: 100%|██████████| 1617/1617 [02:22<00:00, 11.31it/s, norm_loss=0.0165]\n",
      "Val 51: 100%|██████████| 91/91 [00:07<00:00, 11.60it/s, denorm_avg_mse=44152.8071]\n"
     ]
    },
    {
     "name": "stdout",
     "output_type": "stream",
     "text": [
      "Epoch 51: Val norm_loss 0.0196, Lat MSE 44130.6236, Lon MSE 44174.9906, Avg MSE 44152.8071\n"
     ]
    },
    {
     "name": "stderr",
     "output_type": "stream",
     "text": [
      "Train 52: 100%|██████████| 1617/1617 [02:22<00:00, 11.32it/s, norm_loss=0.0168]\n",
      "Val 52: 100%|██████████| 91/91 [00:07<00:00, 11.72it/s, denorm_avg_mse=71166.6356]\n"
     ]
    },
    {
     "name": "stdout",
     "output_type": "stream",
     "text": [
      "Epoch 52: Val norm_loss 0.0288, Lat MSE 64770.5783, Lon MSE 77562.6928, Avg MSE 71166.6356\n"
     ]
    },
    {
     "name": "stderr",
     "output_type": "stream",
     "text": [
      "Train 53: 100%|██████████| 1617/1617 [02:23<00:00, 11.30it/s, norm_loss=0.0184]\n",
      "Val 53: 100%|██████████| 91/91 [00:07<00:00, 11.55it/s, denorm_avg_mse=72724.2203]\n"
     ]
    },
    {
     "name": "stdout",
     "output_type": "stream",
     "text": [
      "Epoch 53: Val norm_loss 0.0299, Lat MSE 59317.6439, Lon MSE 86130.7967, Avg MSE 72724.2203\n"
     ]
    },
    {
     "name": "stderr",
     "output_type": "stream",
     "text": [
      "Train 54: 100%|██████████| 1617/1617 [02:22<00:00, 11.33it/s, norm_loss=0.0190]\n",
      "Val 54: 100%|██████████| 91/91 [00:07<00:00, 11.69it/s, denorm_avg_mse=51112.9339]\n"
     ]
    },
    {
     "name": "stdout",
     "output_type": "stream",
     "text": [
      "Epoch 54: Val norm_loss 0.0223, Lat MSE 40380.5101, Lon MSE 61845.3576, Avg MSE 51112.9339\n"
     ]
    },
    {
     "name": "stderr",
     "output_type": "stream",
     "text": [
      "Train 55: 100%|██████████| 1617/1617 [02:22<00:00, 11.35it/s, norm_loss=0.0179]\n",
      "Val 55: 100%|██████████| 91/91 [00:07<00:00, 11.78it/s, denorm_avg_mse=65581.0741]\n"
     ]
    },
    {
     "name": "stdout",
     "output_type": "stream",
     "text": [
      "Epoch 55: Val norm_loss 0.0261, Lat MSE 47240.5817, Lon MSE 83921.5665, Avg MSE 65581.0741\n"
     ]
    },
    {
     "name": "stderr",
     "output_type": "stream",
     "text": [
      "Train 56: 100%|██████████| 1617/1617 [02:25<00:00, 11.11it/s, norm_loss=0.0185]\n",
      "Val 56: 100%|██████████| 91/91 [00:07<00:00, 11.77it/s, denorm_avg_mse=62715.6400]\n"
     ]
    },
    {
     "name": "stdout",
     "output_type": "stream",
     "text": [
      "Epoch 56: Val norm_loss 0.0239, Lat MSE 42408.4656, Lon MSE 83022.8143, Avg MSE 62715.6400\n"
     ]
    },
    {
     "name": "stderr",
     "output_type": "stream",
     "text": [
      "Train 57: 100%|██████████| 1617/1617 [02:25<00:00, 11.11it/s, norm_loss=0.0181]\n",
      "Val 57: 100%|██████████| 91/91 [00:07<00:00, 11.73it/s, denorm_avg_mse=51563.8104]\n"
     ]
    },
    {
     "name": "stdout",
     "output_type": "stream",
     "text": [
      "Epoch 57: Val norm_loss 0.0210, Lat MSE 44504.3606, Lon MSE 58623.2602, Avg MSE 51563.8104\n"
     ]
    },
    {
     "name": "stderr",
     "output_type": "stream",
     "text": [
      "Train 58: 100%|██████████| 1617/1617 [02:22<00:00, 11.36it/s, norm_loss=0.0203]\n",
      "Val 58: 100%|██████████| 91/91 [00:07<00:00, 11.70it/s, denorm_avg_mse=48613.6496]\n"
     ]
    },
    {
     "name": "stdout",
     "output_type": "stream",
     "text": [
      "Epoch 58: Val norm_loss 0.0218, Lat MSE 47348.2966, Lon MSE 49879.0026, Avg MSE 48613.6496\n"
     ]
    },
    {
     "name": "stderr",
     "output_type": "stream",
     "text": [
      "Train 59: 100%|██████████| 1617/1617 [02:23<00:00, 11.29it/s, norm_loss=0.0188]\n",
      "Val 59: 100%|██████████| 91/91 [00:07<00:00, 11.70it/s, denorm_avg_mse=38317.5677]\n"
     ]
    },
    {
     "name": "stdout",
     "output_type": "stream",
     "text": [
      "Epoch 59: Val norm_loss 0.0175, Lat MSE 33984.5245, Lon MSE 42650.6108, Avg MSE 38317.5677\n"
     ]
    },
    {
     "name": "stderr",
     "output_type": "stream",
     "text": [
      "Train 60: 100%|██████████| 1617/1617 [02:22<00:00, 11.32it/s, norm_loss=0.0189]\n",
      "Val 60: 100%|██████████| 91/91 [00:07<00:00, 11.59it/s, denorm_avg_mse=51832.6110]\n"
     ]
    },
    {
     "name": "stdout",
     "output_type": "stream",
     "text": [
      "Epoch 60: Val norm_loss 0.0217, Lat MSE 46951.8896, Lon MSE 56713.3323, Avg MSE 51832.6110\n"
     ]
    },
    {
     "name": "stderr",
     "output_type": "stream",
     "text": [
      "Train 61: 100%|██████████| 1617/1617 [02:22<00:00, 11.36it/s, norm_loss=0.0170]\n",
      "Val 61: 100%|██████████| 91/91 [00:07<00:00, 11.67it/s, denorm_avg_mse=47696.6971]\n"
     ]
    },
    {
     "name": "stdout",
     "output_type": "stream",
     "text": [
      "Epoch 61: Val norm_loss 0.0203, Lat MSE 49798.9963, Lon MSE 45594.3979, Avg MSE 47696.6971\n"
     ]
    },
    {
     "name": "stderr",
     "output_type": "stream",
     "text": [
      "Train 62: 100%|██████████| 1617/1617 [02:22<00:00, 11.34it/s, norm_loss=0.0174]\n",
      "Val 62: 100%|██████████| 91/91 [00:07<00:00, 11.73it/s, denorm_avg_mse=58122.5709]\n"
     ]
    },
    {
     "name": "stdout",
     "output_type": "stream",
     "text": [
      "Epoch 62: Val norm_loss 0.0242, Lat MSE 51480.9359, Lon MSE 64764.2060, Avg MSE 58122.5709\n"
     ]
    },
    {
     "name": "stderr",
     "output_type": "stream",
     "text": [
      "Train 63: 100%|██████████| 1617/1617 [02:22<00:00, 11.34it/s, norm_loss=0.0181]\n",
      "Val 63: 100%|██████████| 91/91 [00:07<00:00, 11.55it/s, denorm_avg_mse=55928.8937]\n"
     ]
    },
    {
     "name": "stdout",
     "output_type": "stream",
     "text": [
      "Epoch 63: Val norm_loss 0.0247, Lat MSE 56239.5652, Lon MSE 55618.2222, Avg MSE 55928.8937\n"
     ]
    },
    {
     "name": "stderr",
     "output_type": "stream",
     "text": [
      "Train 64: 100%|██████████| 1617/1617 [02:22<00:00, 11.35it/s, norm_loss=0.0177]\n",
      "Val 64: 100%|██████████| 91/91 [00:07<00:00, 11.66it/s, denorm_avg_mse=40979.5638]\n"
     ]
    },
    {
     "name": "stdout",
     "output_type": "stream",
     "text": [
      "Epoch 64: Val norm_loss 0.0179, Lat MSE 32156.9309, Lon MSE 49802.1966, Avg MSE 40979.5638\n"
     ]
    },
    {
     "name": "stderr",
     "output_type": "stream",
     "text": [
      "Train 65: 100%|██████████| 1617/1617 [02:22<00:00, 11.31it/s, norm_loss=0.0165]\n",
      "Val 65: 100%|██████████| 91/91 [00:07<00:00, 11.71it/s, denorm_avg_mse=43041.1694]\n"
     ]
    },
    {
     "name": "stdout",
     "output_type": "stream",
     "text": [
      "Epoch 65: Val norm_loss 0.0186, Lat MSE 43661.7951, Lon MSE 42420.5437, Avg MSE 43041.1694\n"
     ]
    },
    {
     "name": "stderr",
     "output_type": "stream",
     "text": [
      "Train 66: 100%|██████████| 1617/1617 [02:22<00:00, 11.33it/s, norm_loss=0.0161]\n",
      "Val 66: 100%|██████████| 91/91 [00:07<00:00, 11.76it/s, denorm_avg_mse=57126.6252]\n"
     ]
    },
    {
     "name": "stdout",
     "output_type": "stream",
     "text": [
      "Epoch 66: Val norm_loss 0.0235, Lat MSE 53433.7152, Lon MSE 60819.5352, Avg MSE 57126.6252\n"
     ]
    },
    {
     "name": "stderr",
     "output_type": "stream",
     "text": [
      "Train 67: 100%|██████████| 1617/1617 [02:22<00:00, 11.34it/s, norm_loss=0.0151]\n",
      "Val 67: 100%|██████████| 91/91 [00:07<00:00, 11.72it/s, denorm_avg_mse=43551.6443]\n"
     ]
    },
    {
     "name": "stdout",
     "output_type": "stream",
     "text": [
      "Epoch 67: Val norm_loss 0.0188, Lat MSE 41605.4081, Lon MSE 45497.8806, Avg MSE 43551.6443\n"
     ]
    },
    {
     "name": "stderr",
     "output_type": "stream",
     "text": [
      "Train 68: 100%|██████████| 1617/1617 [02:25<00:00, 11.11it/s, norm_loss=0.0153]\n",
      "Val 68: 100%|██████████| 91/91 [00:07<00:00, 11.68it/s, denorm_avg_mse=40214.7137]\n"
     ]
    },
    {
     "name": "stdout",
     "output_type": "stream",
     "text": [
      "Epoch 68: Val norm_loss 0.0180, Lat MSE 37954.5843, Lon MSE 42474.8430, Avg MSE 40214.7137\n"
     ]
    },
    {
     "name": "stderr",
     "output_type": "stream",
     "text": [
      "Train 69: 100%|██████████| 1617/1617 [02:22<00:00, 11.34it/s, norm_loss=0.0143]\n",
      "Val 69: 100%|██████████| 91/91 [00:07<00:00, 11.72it/s, denorm_avg_mse=44516.5954]\n"
     ]
    },
    {
     "name": "stdout",
     "output_type": "stream",
     "text": [
      "Epoch 69: Val norm_loss 0.0200, Lat MSE 36008.4565, Lon MSE 53024.7342, Avg MSE 44516.5954\n"
     ]
    },
    {
     "name": "stderr",
     "output_type": "stream",
     "text": [
      "Train 70: 100%|██████████| 1617/1617 [02:22<00:00, 11.34it/s, norm_loss=0.0147]\n",
      "Val 70: 100%|██████████| 91/91 [00:07<00:00, 11.74it/s, denorm_avg_mse=49555.4908]\n"
     ]
    },
    {
     "name": "stdout",
     "output_type": "stream",
     "text": [
      "Epoch 70: Val norm_loss 0.0208, Lat MSE 37000.6333, Lon MSE 62110.3483, Avg MSE 49555.4908\n"
     ]
    },
    {
     "name": "stderr",
     "output_type": "stream",
     "text": [
      "Train 71: 100%|██████████| 1617/1617 [02:22<00:00, 11.32it/s, norm_loss=0.0123]\n",
      "Val 71: 100%|██████████| 91/91 [00:07<00:00, 11.71it/s, denorm_avg_mse=47420.9899]\n"
     ]
    },
    {
     "name": "stdout",
     "output_type": "stream",
     "text": [
      "Epoch 71: Val norm_loss 0.0192, Lat MSE 45196.4805, Lon MSE 49645.4993, Avg MSE 47420.9899\n"
     ]
    },
    {
     "name": "stderr",
     "output_type": "stream",
     "text": [
      "Train 72: 100%|██████████| 1617/1617 [02:22<00:00, 11.35it/s, norm_loss=0.0120]\n",
      "Val 72: 100%|██████████| 91/91 [00:07<00:00, 11.58it/s, denorm_avg_mse=34417.9047]\n"
     ]
    },
    {
     "name": "stdout",
     "output_type": "stream",
     "text": [
      "Epoch 72: Val norm_loss 0.0153, Lat MSE 29550.0712, Lon MSE 39285.7383, Avg MSE 34417.9047\n"
     ]
    },
    {
     "name": "stderr",
     "output_type": "stream",
     "text": [
      "Train 73: 100%|██████████| 1617/1617 [02:23<00:00, 11.30it/s, norm_loss=0.0113]\n",
      "Val 73: 100%|██████████| 91/91 [00:07<00:00, 11.49it/s, denorm_avg_mse=38719.3233]\n"
     ]
    },
    {
     "name": "stdout",
     "output_type": "stream",
     "text": [
      "Epoch 73: Val norm_loss 0.0154, Lat MSE 26926.1027, Lon MSE 50512.5439, Avg MSE 38719.3233\n"
     ]
    },
    {
     "name": "stderr",
     "output_type": "stream",
     "text": [
      "Train 74: 100%|██████████| 1617/1617 [02:22<00:00, 11.33it/s, norm_loss=0.0107]\n",
      "Val 74: 100%|██████████| 91/91 [00:07<00:00, 11.67it/s, denorm_avg_mse=34557.9007]\n"
     ]
    },
    {
     "name": "stdout",
     "output_type": "stream",
     "text": [
      "Epoch 74: Val norm_loss 0.0150, Lat MSE 32805.0648, Lon MSE 36310.7367, Avg MSE 34557.9007\n"
     ]
    },
    {
     "name": "stderr",
     "output_type": "stream",
     "text": [
      "Train 75: 100%|██████████| 1617/1617 [02:22<00:00, 11.36it/s, norm_loss=0.0109]\n",
      "Val 75: 100%|██████████| 91/91 [00:07<00:00, 11.69it/s, denorm_avg_mse=27301.3647]\n"
     ]
    },
    {
     "name": "stdout",
     "output_type": "stream",
     "text": [
      "Epoch 75: Val norm_loss 0.0127, Lat MSE 26369.8547, Lon MSE 28232.8748, Avg MSE 27301.3647\n"
     ]
    },
    {
     "name": "stderr",
     "output_type": "stream",
     "text": [
      "Train 76: 100%|██████████| 1617/1617 [02:22<00:00, 11.33it/s, norm_loss=0.0098]\n",
      "Val 76: 100%|██████████| 91/91 [00:07<00:00, 11.77it/s, denorm_avg_mse=38160.4670]\n"
     ]
    },
    {
     "name": "stdout",
     "output_type": "stream",
     "text": [
      "Epoch 76: Val norm_loss 0.0154, Lat MSE 36994.6387, Lon MSE 39326.2952, Avg MSE 38160.4670\n"
     ]
    },
    {
     "name": "stderr",
     "output_type": "stream",
     "text": [
      "Train 77: 100%|██████████| 1617/1617 [02:22<00:00, 11.33it/s, norm_loss=0.0097]\n",
      "Val 77: 100%|██████████| 91/91 [00:07<00:00, 11.71it/s, denorm_avg_mse=37293.2701]\n"
     ]
    },
    {
     "name": "stdout",
     "output_type": "stream",
     "text": [
      "Epoch 77: Val norm_loss 0.0153, Lat MSE 38735.8561, Lon MSE 35850.6841, Avg MSE 37293.2701\n"
     ]
    },
    {
     "name": "stderr",
     "output_type": "stream",
     "text": [
      "Train 78: 100%|██████████| 1617/1617 [02:22<00:00, 11.36it/s, norm_loss=0.0090]\n",
      "Val 78: 100%|██████████| 91/91 [00:07<00:00, 11.65it/s, denorm_avg_mse=53929.2106]\n"
     ]
    },
    {
     "name": "stdout",
     "output_type": "stream",
     "text": [
      "Epoch 78: Val norm_loss 0.0178, Lat MSE 37722.1434, Lon MSE 70136.2778, Avg MSE 53929.2106\n"
     ]
    },
    {
     "name": "stderr",
     "output_type": "stream",
     "text": [
      "Train 79: 100%|██████████| 1617/1617 [02:22<00:00, 11.32it/s, norm_loss=0.0087]\n",
      "Val 79: 100%|██████████| 91/91 [00:07<00:00, 11.69it/s, denorm_avg_mse=40228.0627]\n"
     ]
    },
    {
     "name": "stdout",
     "output_type": "stream",
     "text": [
      "Epoch 79: Val norm_loss 0.0163, Lat MSE 38175.8326, Lon MSE 42280.2929, Avg MSE 40228.0627\n"
     ]
    },
    {
     "name": "stderr",
     "output_type": "stream",
     "text": [
      "Train 80: 100%|██████████| 1617/1617 [02:22<00:00, 11.33it/s, norm_loss=0.0085]\n",
      "Val 80: 100%|██████████| 91/91 [00:07<00:00, 11.68it/s, denorm_avg_mse=37884.9623]\n"
     ]
    },
    {
     "name": "stdout",
     "output_type": "stream",
     "text": [
      "Epoch 80: Val norm_loss 0.0164, Lat MSE 37711.9602, Lon MSE 38057.9645, Avg MSE 37884.9623\n"
     ]
    },
    {
     "name": "stderr",
     "output_type": "stream",
     "text": [
      "Train 81: 100%|██████████| 1617/1617 [02:22<00:00, 11.37it/s, norm_loss=0.0082]\n",
      "Val 81: 100%|██████████| 91/91 [00:07<00:00, 11.83it/s, denorm_avg_mse=32524.6971]\n"
     ]
    },
    {
     "name": "stdout",
     "output_type": "stream",
     "text": [
      "Epoch 81: Val norm_loss 0.0135, Lat MSE 34129.4249, Lon MSE 30919.9694, Avg MSE 32524.6971\n"
     ]
    },
    {
     "name": "stderr",
     "output_type": "stream",
     "text": [
      "Train 82: 100%|██████████| 1617/1617 [02:22<00:00, 11.34it/s, norm_loss=0.0080]\n",
      "Val 82: 100%|██████████| 91/91 [00:07<00:00, 11.80it/s, denorm_avg_mse=22290.2262]\n"
     ]
    },
    {
     "name": "stdout",
     "output_type": "stream",
     "text": [
      "Epoch 82: Val norm_loss 0.0104, Lat MSE 21554.3030, Lon MSE 23026.1493, Avg MSE 22290.2262\n"
     ]
    },
    {
     "name": "stderr",
     "output_type": "stream",
     "text": [
      "Train 83: 100%|██████████| 1617/1617 [02:25<00:00, 11.11it/s, norm_loss=0.0076]\n",
      "Val 83: 100%|██████████| 91/91 [00:07<00:00, 11.74it/s, denorm_avg_mse=18666.6941]\n"
     ]
    },
    {
     "name": "stdout",
     "output_type": "stream",
     "text": [
      "Epoch 83: Val norm_loss 0.0087, Lat MSE 17826.8612, Lon MSE 19506.5270, Avg MSE 18666.6941\n"
     ]
    },
    {
     "name": "stderr",
     "output_type": "stream",
     "text": [
      "Train 84: 100%|██████████| 1617/1617 [02:22<00:00, 11.36it/s, norm_loss=0.0074]\n",
      "Val 84: 100%|██████████| 91/91 [00:07<00:00, 11.71it/s, denorm_avg_mse=31139.6899]\n"
     ]
    },
    {
     "name": "stdout",
     "output_type": "stream",
     "text": [
      "Epoch 84: Val norm_loss 0.0136, Lat MSE 31053.6296, Lon MSE 31225.7502, Avg MSE 31139.6899\n"
     ]
    },
    {
     "name": "stderr",
     "output_type": "stream",
     "text": [
      "Train 85: 100%|██████████| 1617/1617 [02:22<00:00, 11.34it/s, norm_loss=0.0070]\n",
      "Val 85: 100%|██████████| 91/91 [00:07<00:00, 11.76it/s, denorm_avg_mse=22956.7990]\n"
     ]
    },
    {
     "name": "stdout",
     "output_type": "stream",
     "text": [
      "Epoch 85: Val norm_loss 0.0105, Lat MSE 20585.4890, Lon MSE 25328.1089, Avg MSE 22956.7990\n"
     ]
    },
    {
     "name": "stderr",
     "output_type": "stream",
     "text": [
      "Train 86: 100%|██████████| 1617/1617 [02:22<00:00, 11.36it/s, norm_loss=0.0067]\n",
      "Val 86: 100%|██████████| 91/91 [00:07<00:00, 11.72it/s, denorm_avg_mse=25993.8548]\n"
     ]
    },
    {
     "name": "stdout",
     "output_type": "stream",
     "text": [
      "Epoch 86: Val norm_loss 0.0119, Lat MSE 23850.3260, Lon MSE 28137.3836, Avg MSE 25993.8548\n"
     ]
    },
    {
     "name": "stderr",
     "output_type": "stream",
     "text": [
      "Train 87: 100%|██████████| 1617/1617 [02:22<00:00, 11.34it/s, norm_loss=0.0071]\n",
      "Val 87: 100%|██████████| 91/91 [00:07<00:00, 11.74it/s, denorm_avg_mse=23983.0390]\n"
     ]
    },
    {
     "name": "stdout",
     "output_type": "stream",
     "text": [
      "Epoch 87: Val norm_loss 0.0110, Lat MSE 22048.2850, Lon MSE 25917.7930, Avg MSE 23983.0390\n"
     ]
    },
    {
     "name": "stderr",
     "output_type": "stream",
     "text": [
      "Train 88: 100%|██████████| 1617/1617 [02:22<00:00, 11.34it/s, norm_loss=0.0070]\n",
      "Val 88: 100%|██████████| 91/91 [00:07<00:00, 11.58it/s, denorm_avg_mse=22383.0420]\n"
     ]
    },
    {
     "name": "stdout",
     "output_type": "stream",
     "text": [
      "Epoch 88: Val norm_loss 0.0103, Lat MSE 20015.8309, Lon MSE 24750.2531, Avg MSE 22383.0420\n"
     ]
    },
    {
     "name": "stderr",
     "output_type": "stream",
     "text": [
      "Train 89: 100%|██████████| 1617/1617 [02:22<00:00, 11.35it/s, norm_loss=0.0065]\n",
      "Val 89: 100%|██████████| 91/91 [00:07<00:00, 11.70it/s, denorm_avg_mse=21284.7894]\n"
     ]
    },
    {
     "name": "stdout",
     "output_type": "stream",
     "text": [
      "Epoch 89: Val norm_loss 0.0098, Lat MSE 19107.1674, Lon MSE 23462.4113, Avg MSE 21284.7894\n"
     ]
    },
    {
     "name": "stderr",
     "output_type": "stream",
     "text": [
      "Train 90: 100%|██████████| 1617/1617 [02:22<00:00, 11.32it/s, norm_loss=0.0065]\n",
      "Val 90: 100%|██████████| 91/91 [00:07<00:00, 11.72it/s, denorm_avg_mse=21440.4921]\n"
     ]
    },
    {
     "name": "stdout",
     "output_type": "stream",
     "text": [
      "Epoch 90: Val norm_loss 0.0099, Lat MSE 19253.4923, Lon MSE 23627.4919, Avg MSE 21440.4921\n"
     ]
    },
    {
     "name": "stderr",
     "output_type": "stream",
     "text": [
      "Train 91: 100%|██████████| 1617/1617 [02:22<00:00, 11.33it/s, norm_loss=0.0066]\n",
      "Val 91: 100%|██████████| 91/91 [00:07<00:00, 11.70it/s, denorm_avg_mse=21576.6089]\n"
     ]
    },
    {
     "name": "stdout",
     "output_type": "stream",
     "text": [
      "Epoch 91: Val norm_loss 0.0099, Lat MSE 19327.5807, Lon MSE 23825.6371, Avg MSE 21576.6089\n"
     ]
    },
    {
     "name": "stderr",
     "output_type": "stream",
     "text": [
      "Train 92: 100%|██████████| 1617/1617 [02:22<00:00, 11.36it/s, norm_loss=0.0065]\n",
      "Val 92: 100%|██████████| 91/91 [00:07<00:00, 11.74it/s, denorm_avg_mse=21713.4369]\n"
     ]
    },
    {
     "name": "stdout",
     "output_type": "stream",
     "text": [
      "Epoch 92: Val norm_loss 0.0100, Lat MSE 19547.5870, Lon MSE 23879.2867, Avg MSE 21713.4369\n"
     ]
    },
    {
     "name": "stderr",
     "output_type": "stream",
     "text": [
      "Train 93: 100%|██████████| 1617/1617 [02:25<00:00, 11.11it/s, norm_loss=0.0068]\n",
      "Val 93: 100%|██████████| 91/91 [00:07<00:00, 11.70it/s, denorm_avg_mse=21865.0914]\n"
     ]
    },
    {
     "name": "stdout",
     "output_type": "stream",
     "text": [
      "Epoch 93: Val norm_loss 0.0100, Lat MSE 19737.5865, Lon MSE 23992.5964, Avg MSE 21865.0914\n"
     ]
    },
    {
     "name": "stderr",
     "output_type": "stream",
     "text": [
      "Train 94: 100%|██████████| 1617/1617 [02:22<00:00, 11.33it/s, norm_loss=0.0064]\n",
      "Val 94: 100%|██████████| 91/91 [00:07<00:00, 11.72it/s, denorm_avg_mse=21378.1549]\n"
     ]
    },
    {
     "name": "stdout",
     "output_type": "stream",
     "text": [
      "Epoch 94: Val norm_loss 0.0098, Lat MSE 19073.9623, Lon MSE 23682.3476, Avg MSE 21378.1549\n"
     ]
    },
    {
     "name": "stderr",
     "output_type": "stream",
     "text": [
      "Train 95: 100%|██████████| 1617/1617 [02:22<00:00, 11.36it/s, norm_loss=0.0069]\n",
      "Val 95: 100%|██████████| 91/91 [00:07<00:00, 11.72it/s, denorm_avg_mse=21644.7870]\n"
     ]
    },
    {
     "name": "stdout",
     "output_type": "stream",
     "text": [
      "Epoch 95: Val norm_loss 0.0100, Lat MSE 19538.0471, Lon MSE 23751.5269, Avg MSE 21644.7870\n"
     ]
    },
    {
     "name": "stderr",
     "output_type": "stream",
     "text": [
      "Train 96: 100%|██████████| 1617/1617 [02:22<00:00, 11.34it/s, norm_loss=0.0070]\n",
      "Val 96: 100%|██████████| 91/91 [00:07<00:00, 11.62it/s, denorm_avg_mse=21257.6681]\n"
     ]
    },
    {
     "name": "stdout",
     "output_type": "stream",
     "text": [
      "Epoch 96: Val norm_loss 0.0098, Lat MSE 19429.8096, Lon MSE 23085.5267, Avg MSE 21257.6681\n"
     ]
    },
    {
     "name": "stderr",
     "output_type": "stream",
     "text": [
      "Train 97: 100%|██████████| 1617/1617 [02:22<00:00, 11.32it/s, norm_loss=0.0069]\n",
      "Val 97: 100%|██████████| 91/91 [00:07<00:00, 11.71it/s, denorm_avg_mse=20200.1294]\n"
     ]
    },
    {
     "name": "stdout",
     "output_type": "stream",
     "text": [
      "Epoch 97: Val norm_loss 0.0094, Lat MSE 18688.5429, Lon MSE 21711.7159, Avg MSE 20200.1294\n"
     ]
    },
    {
     "name": "stderr",
     "output_type": "stream",
     "text": [
      "Train 98: 100%|██████████| 1617/1617 [02:25<00:00, 11.13it/s, norm_loss=0.0071]\n",
      "Val 98: 100%|██████████| 91/91 [00:07<00:00, 11.62it/s, denorm_avg_mse=25936.4708]\n"
     ]
    },
    {
     "name": "stdout",
     "output_type": "stream",
     "text": [
      "Epoch 98: Val norm_loss 0.0119, Lat MSE 23779.8027, Lon MSE 28093.1389, Avg MSE 25936.4708\n"
     ]
    },
    {
     "name": "stderr",
     "output_type": "stream",
     "text": [
      "Train 99: 100%|██████████| 1617/1617 [02:22<00:00, 11.34it/s, norm_loss=0.0072]\n",
      "Val 99: 100%|██████████| 91/91 [00:07<00:00, 11.76it/s, denorm_avg_mse=33092.3496]\n"
     ]
    },
    {
     "name": "stdout",
     "output_type": "stream",
     "text": [
      "Epoch 99: Val norm_loss 0.0139, Lat MSE 34486.0515, Lon MSE 31698.6477, Avg MSE 33092.3496\n"
     ]
    },
    {
     "name": "stderr",
     "output_type": "stream",
     "text": [
      "Train 100: 100%|██████████| 1617/1617 [02:22<00:00, 11.35it/s, norm_loss=0.0072]\n",
      "Val 100: 100%|██████████| 91/91 [00:07<00:00, 11.81it/s, denorm_avg_mse=36641.3330]"
     ]
    },
    {
     "name": "stdout",
     "output_type": "stream",
     "text": [
      "Epoch 100: Val norm_loss 0.0147, Lat MSE 38836.2225, Lon MSE 34446.4435, Avg MSE 36641.3330\n",
      "Best Val Avg MSE: 18666.6941\n"
     ]
    },
    {
     "name": "stderr",
     "output_type": "stream",
     "text": [
      "\n"
     ]
    }
   ],
   "source": [
    "import os\n",
    "import pandas as pd\n",
    "import numpy as np\n",
    "import torch\n",
    "import torch.nn as nn\n",
    "import torch.optim as optim\n",
    "from torch.utils.data import Dataset, DataLoader\n",
    "from torchvision import transforms\n",
    "from PIL import Image\n",
    "from timm.models.layers import DropPath\n",
    "from torch.optim.lr_scheduler import CosineAnnealingLR\n",
    "from torch.cuda.amp import GradScaler, autocast\n",
    "from tqdm import tqdm\n",
    "import matplotlib.pyplot as plt\n",
    "\n",
    "# 1) Reproducibility & Device Setup\n",
    "\n",
    "def set_seed(seed=42):\n",
    "    np.random.seed(seed)\n",
    "    torch.manual_seed(seed)\n",
    "    torch.cuda.manual_seed_all(seed)\n",
    "    torch.backends.cudnn.deterministic = True\n",
    "    torch.backends.cudnn.benchmark = False\n",
    "\n",
    "set_seed()\n",
    "device = torch.device('cuda' if torch.cuda.is_available() else 'cpu')\n",
    "epochs = 100\n",
    "\n",
    "# 2) Load & Filter Data\n",
    "train_csv = '/kaggle/input/smai-project/Phase_2_data/labels_train.csv'\n",
    "val_csv   = '/kaggle/input/smai-project/Phase_2_data/labels_val.csv'\n",
    "train_dir = '/kaggle/input/smai-project/Phase_2_data/images_train'\n",
    "val_dir   = '/kaggle/input/smai-project/Phase_2_data/images_val'\n",
    "exclude_val_ids = [95, 145, 146, 158, 159, 160, 161]\n",
    "\n",
    "train_df = pd.read_csv(train_csv)\n",
    "# filter coordinates outside desired range\n",
    "train_df = train_df[train_df.latitude.between(200000,230000) & \n",
    "                    train_df.longitude.between(140000,150000)].reset_index(drop=True)\n",
    "# compute standardization params\n",
    "mu = train_df[['latitude','longitude']].mean().values\n",
    "sigma = train_df[['latitude','longitude']].std().values\n",
    "# create tensors for denormalization on device\n",
    "mu_tensor = torch.tensor(mu, dtype=torch.float32, device=device)\n",
    "sigma_tensor = torch.tensor(sigma, dtype=torch.float32, device=device)\n",
    "\n",
    "# # 3) Optional EDA: scatter of normalized coords by region\n",
    "# train_df['lat_n'] = (train_df.latitude - mu[0]) / sigma[0]\n",
    "# train_df['lon_n'] = (train_df.longitude - mu[1]) / sigma[1]\n",
    "# plt.figure(figsize=(8,6))\n",
    "# plt.scatter(train_df.lon_n, train_df.lat_n, c=train_df.region_id, s=5, cmap='tab20')\n",
    "# plt.xlabel('Norm Lon'); plt.ylabel('Norm Lat'); plt.title('Normalized Coordinates by Region')\n",
    "# plt.colorbar(label='region_id'); plt.savefig('latlon_scatter.png',dpi=300); plt.close()\n",
    "\n",
    "# 4) Dataset & Normalization\n",
    "class GeoCoordDataset(Dataset):\n",
    "    def __init__(self, df, img_dir, mu, sigma, transforms=None):\n",
    "        self.df = df\n",
    "        self.img_dir = img_dir\n",
    "        self.mu = torch.tensor(mu, dtype=torch.float32)\n",
    "        self.sigma = torch.tensor(sigma, dtype=torch.float32)\n",
    "        self.transforms = transforms\n",
    "\n",
    "    def __len__(self):\n",
    "        return len(self.df)\n",
    "\n",
    "    def __getitem__(self, idx):\n",
    "        row = self.df.iloc[idx]\n",
    "        img = Image.open(os.path.join(self.img_dir, row.filename)).convert('RGB')\n",
    "        if self.transforms:\n",
    "            img = self.transforms(img)\n",
    "        raw = torch.tensor([row.latitude, row.longitude], dtype=torch.float32)\n",
    "        normed = (raw - self.mu) / self.sigma\n",
    "        return img, normed, raw, row.filename\n",
    "\n",
    "# 5) Transforms & DataLoaders\n",
    "train_transform = transforms.Compose([\n",
    "    transforms.Resize(256),\n",
    "    transforms.RandomResizedCrop(224, scale=(0.7,1.0)),\n",
    "    transforms.RandAugment(num_ops=2, magnitude=9),\n",
    "    transforms.ColorJitter(0.3,0.3,0.3,0.15),\n",
    "    transforms.ToTensor(),\n",
    "    transforms.Normalize([0.485,0.456,0.406],[0.229,0.224,0.225])\n",
    "])\n",
    "val_transform = transforms.Compose([\n",
    "    transforms.Resize(224),\n",
    "    transforms.CenterCrop(224),\n",
    "    transforms.ToTensor(),\n",
    "    transforms.Normalize([0.485,0.456,0.406],[0.229,0.224,0.225])\n",
    "])\n",
    "\n",
    "dataset_train = GeoCoordDataset(train_df, train_dir, mu, sigma, transforms=train_transform)\n",
    "loader_train = DataLoader(dataset_train, batch_size=4, shuffle=True, num_workers=4)\n",
    "val_df = pd.read_csv(val_csv)\n",
    "val_df = val_df[~val_df.index.isin(exclude_val_ids)].reset_index(drop=True)\n",
    "dataset_val = GeoCoordDataset(val_df, val_dir, mu, sigma, transforms=val_transform)\n",
    "loader_val   = DataLoader(dataset_val, batch_size=4, shuffle=False, num_workers=4)\n",
    "\n",
    "# 6) Model Architecture (CoordModel)\n",
    "def freeze_module(module):\n",
    "    for p in module.parameters(): p.requires_grad = False\n",
    "\n",
    "class CoordModel(nn.Module):\n",
    "    def __init__(self):\n",
    "        super().__init__()\n",
    "        self.backbone = torch.hub.load('facebookresearch/dinov2','dinov2_vitb14',pretrained=True)\n",
    "        embed_dim = self.backbone.embed_dim\n",
    "        freeze_module(self.backbone.patch_embed)\n",
    "        for blk in self.backbone.blocks[:6]: freeze_module(blk)\n",
    "        for blk in self.backbone.blocks[6:]: blk.drop_path = DropPath(0.1)\n",
    "        self.head = nn.Sequential(\n",
    "            nn.Dropout(0.1),\n",
    "            nn.Linear(embed_dim, embed_dim//2),\n",
    "            nn.ReLU(inplace=True),\n",
    "            nn.Dropout(0.1),\n",
    "            nn.Linear(embed_dim//2, 2)\n",
    "        )\n",
    "\n",
    "    def forward(self, x):\n",
    "        features = self.backbone(x)\n",
    "        return self.head(features)\n",
    "\n",
    "model = CoordModel().to(device)\n",
    "\n",
    "# 7) Losses & Metrics\n",
    "criterion = nn.SmoothL1Loss()\n",
    "mse_loss = nn.MSELoss()\n",
    "\n",
    "def compute_denorm_mse(pred_norm, raw_gt, mu_t, sigma_t):\n",
    "    pred = pred_norm * sigma_t + mu_t\n",
    "    mse_per_dim = ((pred - raw_gt)**2).mean(dim=0)\n",
    "    return mse_per_dim[0].item(), mse_per_dim[1].item(), mse_per_dim.mean().item()\n",
    "\n",
    "# 8) Optimizer & Scheduler\n",
    "optimizer = optim.AdamW([\n",
    "    {'params':[p for p in model.backbone.parameters() if p.requires_grad], 'lr':2e-5},\n",
    "    {'params':model.head.parameters(), 'lr':2e-3}\n",
    "], weight_decay=1e-2)\n",
    "scheduler = CosineAnnealingLR(optimizer, T_max=30, eta_min=1e-7)\n",
    "scaler = GradScaler()\n",
    "\n",
    "# 9) Training & Validation Loops\n",
    "def train_one_epoch(epoch):\n",
    "    model.train(); running_loss=0.0; sample_count=0\n",
    "    pbar = tqdm(loader_train, desc=f\"Train {epoch+1}\")\n",
    "    for imgs, t_norm, _, _ in pbar:\n",
    "        imgs, t_norm = imgs.to(device), t_norm.to(device)\n",
    "        with autocast(): pred_norm = model(imgs); loss = criterion(pred_norm, t_norm)\n",
    "        scaler.scale(loss).backward()\n",
    "        scaler.unscale_(optimizer); nn.utils.clip_grad_norm_(model.parameters(),1.0)\n",
    "        scaler.step(optimizer); scaler.update(); optimizer.zero_grad()\n",
    "        bs = imgs.size(0); running_loss += loss.item()*bs; sample_count += bs\n",
    "        pbar.set_postfix({'norm_loss':f\"{running_loss/sample_count:.4f}\"})\n",
    "    scheduler.step()\n",
    "\n",
    "\n",
    "def validate(epoch):\n",
    "    model.eval(); total_norm=0.0; total_lat=0.0; total_lon=0.0; count=0\n",
    "    preds=[]; fnames=[]\n",
    "    pbar = tqdm(loader_val, desc=f\"Val {epoch+1}\")\n",
    "    for imgs, t_norm, raw, names in pbar:\n",
    "        imgs, t_norm, raw = imgs.to(device), t_norm.to(device), raw.to(device)\n",
    "        with torch.no_grad(): pred_norm = model(imgs)\n",
    "        bs = imgs.size(0)\n",
    "        total_norm += criterion(pred_norm, t_norm).item()*bs\n",
    "        lat_m, lon_m, _ = compute_denorm_mse(pred_norm, raw, mu_tensor, sigma_tensor)\n",
    "        total_lat += lat_m*bs; total_lon += lon_m*bs; count += bs\n",
    "        preds.append(pred_norm)  # keep on GPU\n",
    "        fnames.extend(names)\n",
    "        pbar.set_postfix({'denorm_avg_mse':f\"{(total_lat+total_lon)/(2*count):.4f}\"})\n",
    "    total_norm /= count; total_lat /= count; total_lon /= count\n",
    "    avg_mse = (total_lat+total_lon)/2\n",
    "    print(f\"Epoch {epoch+1}: Val norm_loss {total_norm:.4f}, Lat MSE {total_lat:.4f}, Lon MSE {total_lon:.4f}, Avg MSE {avg_mse:.4f}\")\n",
    "    # denormalize all predictions on GPU, then move to CPU\n",
    "    all_pred_norm = torch.cat(preds)\n",
    "    denorm = all_pred_norm * sigma_tensor.unsqueeze(0) + mu_tensor.unsqueeze(0)\n",
    "    denorm_cpu = denorm.cpu().numpy()\n",
    "    df = pd.DataFrame({'filename':fnames, 'pred_latitude':denorm_cpu[:,0], 'pred_longitude':denorm_cpu[:,1]})\n",
    "    df.to_csv('best_val_preds.csv', index=False)\n",
    "    return total_norm, total_lat, total_lon, avg_mse\n",
    "\n",
    "# 10) Main Training Loop\n",
    "best_mse = float('inf')\n",
    "for epoch in range(epochs):\n",
    "    train_one_epoch(epoch)\n",
    "    _, lat_mse, lon_mse, avg_mse = validate(epoch)\n",
    "    if avg_mse < best_mse:\n",
    "        best_mse = avg_mse\n",
    "        torch.save(model.state_dict(), 'best_coord_model.pth')\n",
    "print(f\"Best Val Avg MSE: {best_mse:.4f}\")\n"
   ]
  }
 ],
 "metadata": {
  "kaggle": {
   "accelerator": "nvidiaTeslaT4",
   "dataSources": [
    {
     "datasetId": 7208313,
     "sourceId": 11498424,
     "sourceType": "datasetVersion"
    }
   ],
   "dockerImageVersionId": 31011,
   "isGpuEnabled": true,
   "isInternetEnabled": true,
   "language": "python",
   "sourceType": "notebook"
  },
  "kernelspec": {
   "display_name": "Python 3",
   "language": "python",
   "name": "python3"
  },
  "language_info": {
   "codemirror_mode": {
    "name": "ipython",
    "version": 3
   },
   "file_extension": ".py",
   "mimetype": "text/x-python",
   "name": "python",
   "nbconvert_exporter": "python",
   "pygments_lexer": "ipython3",
   "version": "3.11.11"
  },
  "papermill": {
   "default_parameters": {},
   "duration": 15131.038423,
   "end_time": "2025-05-04T08:12:52.433670",
   "environment_variables": {},
   "exception": null,
   "input_path": "__notebook__.ipynb",
   "output_path": "__notebook__.ipynb",
   "parameters": {},
   "start_time": "2025-05-04T04:00:41.395247",
   "version": "2.6.0"
  }
 },
 "nbformat": 4,
 "nbformat_minor": 5
}
