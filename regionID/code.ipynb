{
 "cells": [
  {
   "cell_type": "code",
   "execution_count": 1,
   "id": "fb126fc2",
   "metadata": {
    "_cell_guid": "b1076dfc-b9ad-4769-8c92-a6c4dae69d19",
    "_uuid": "8f2839f25d086af736a60e9eeb907d3b93b6e0e5",
    "execution": {
     "iopub.execute_input": "2025-05-04T00:03:42.506340Z",
     "iopub.status.busy": "2025-05-04T00:03:42.505967Z",
     "iopub.status.idle": "2025-05-04T03:21:00.957051Z",
     "shell.execute_reply": "2025-05-04T03:21:00.955871Z"
    },
    "papermill": {
     "duration": 11838.455103,
     "end_time": "2025-05-04T03:21:00.958578",
     "exception": false,
     "start_time": "2025-05-04T00:03:42.503475",
     "status": "completed"
    },
    "tags": []
   },
   "outputs": [
    {
     "name": "stderr",
     "output_type": "stream",
     "text": [
      "/usr/local/lib/python3.11/dist-packages/torchvision/models/_utils.py:208: UserWarning: The parameter 'pretrained' is deprecated since 0.13 and may be removed in the future, please use 'weights' instead.\n",
      "  warnings.warn(\n",
      "/usr/local/lib/python3.11/dist-packages/torchvision/models/_utils.py:223: UserWarning: Arguments other than a weight enum or `None` for 'weights' are deprecated since 0.13 and may be removed in the future. The current behavior is equivalent to passing `weights=ConvNeXt_Tiny_Weights.IMAGENET1K_V1`. You can also use `weights=ConvNeXt_Tiny_Weights.DEFAULT` to get the most up-to-date weights.\n",
      "  warnings.warn(msg)\n",
      "Downloading: \"https://download.pytorch.org/models/convnext_tiny-983f1562.pth\" to /root/.cache/torch/hub/checkpoints/convnext_tiny-983f1562.pth\n",
      "100%|██████████| 109M/109M [00:00<00:00, 196MB/s] \n",
      "Train Epoch 1/100: 100%|██████████| 205/205 [01:43<00:00,  1.97it/s]\n",
      "Validate: 100%|██████████| 12/12 [00:02<00:00,  5.45it/s]\n"
     ]
    },
    {
     "name": "stdout",
     "output_type": "stream",
     "text": [
      "Epoch 1/100 | Train Loss: 1.5922, Acc: 0.4853 | Val Loss: 0.7233, Acc: 0.7669\n"
     ]
    },
    {
     "name": "stderr",
     "output_type": "stream",
     "text": [
      "Train Epoch 2/100: 100%|██████████| 205/205 [01:56<00:00,  1.77it/s]\n",
      "Validate: 100%|██████████| 12/12 [00:02<00:00,  5.66it/s]\n"
     ]
    },
    {
     "name": "stdout",
     "output_type": "stream",
     "text": [
      "Epoch 2/100 | Train Loss: 0.8922, Acc: 0.7119 | Val Loss: 0.6617, Acc: 0.7724\n"
     ]
    },
    {
     "name": "stderr",
     "output_type": "stream",
     "text": [
      "Train Epoch 3/100: 100%|██████████| 205/205 [01:55<00:00,  1.77it/s]\n",
      "Validate: 100%|██████████| 12/12 [00:02<00:00,  5.62it/s]\n"
     ]
    },
    {
     "name": "stdout",
     "output_type": "stream",
     "text": [
      "Epoch 3/100 | Train Loss: 0.6772, Acc: 0.7797 | Val Loss: 0.3719, Acc: 0.8780\n"
     ]
    },
    {
     "name": "stderr",
     "output_type": "stream",
     "text": [
      "Train Epoch 4/100: 100%|██████████| 205/205 [01:55<00:00,  1.77it/s]\n",
      "Validate: 100%|██████████| 12/12 [00:02<00:00,  5.59it/s]\n"
     ]
    },
    {
     "name": "stdout",
     "output_type": "stream",
     "text": [
      "Epoch 4/100 | Train Loss: 0.5686, Acc: 0.8178 | Val Loss: 0.3822, Acc: 0.8808\n"
     ]
    },
    {
     "name": "stderr",
     "output_type": "stream",
     "text": [
      "Train Epoch 5/100: 100%|██████████| 205/205 [01:56<00:00,  1.76it/s]\n",
      "Validate: 100%|██████████| 12/12 [00:02<00:00,  5.64it/s]\n"
     ]
    },
    {
     "name": "stdout",
     "output_type": "stream",
     "text": [
      "Epoch 5/100 | Train Loss: 0.4941, Acc: 0.8366 | Val Loss: 0.3735, Acc: 0.8780\n"
     ]
    },
    {
     "name": "stderr",
     "output_type": "stream",
     "text": [
      "Train Epoch 6/100: 100%|██████████| 205/205 [01:56<00:00,  1.76it/s]\n",
      "Validate: 100%|██████████| 12/12 [00:02<00:00,  5.65it/s]\n"
     ]
    },
    {
     "name": "stdout",
     "output_type": "stream",
     "text": [
      "Epoch 6/100 | Train Loss: 0.4677, Acc: 0.8462 | Val Loss: 0.3361, Acc: 0.8943\n"
     ]
    },
    {
     "name": "stderr",
     "output_type": "stream",
     "text": [
      "Train Epoch 7/100: 100%|██████████| 205/205 [01:56<00:00,  1.76it/s]\n",
      "Validate: 100%|██████████| 12/12 [00:02<00:00,  5.43it/s]\n"
     ]
    },
    {
     "name": "stdout",
     "output_type": "stream",
     "text": [
      "Epoch 7/100 | Train Loss: 0.4064, Acc: 0.8644 | Val Loss: 0.3538, Acc: 0.8943\n"
     ]
    },
    {
     "name": "stderr",
     "output_type": "stream",
     "text": [
      "Train Epoch 8/100: 100%|██████████| 205/205 [01:56<00:00,  1.76it/s]\n",
      "Validate: 100%|██████████| 12/12 [00:02<00:00,  5.70it/s]\n"
     ]
    },
    {
     "name": "stdout",
     "output_type": "stream",
     "text": [
      "Epoch 8/100 | Train Loss: 0.3783, Acc: 0.8716 | Val Loss: 0.2456, Acc: 0.9322\n"
     ]
    },
    {
     "name": "stderr",
     "output_type": "stream",
     "text": [
      "Train Epoch 9/100: 100%|██████████| 205/205 [01:56<00:00,  1.76it/s]\n",
      "Validate: 100%|██████████| 12/12 [00:02<00:00,  5.63it/s]\n"
     ]
    },
    {
     "name": "stdout",
     "output_type": "stream",
     "text": [
      "Epoch 9/100 | Train Loss: 0.3561, Acc: 0.8823 | Val Loss: 0.2449, Acc: 0.9187\n"
     ]
    },
    {
     "name": "stderr",
     "output_type": "stream",
     "text": [
      "Train Epoch 10/100: 100%|██████████| 205/205 [01:55<00:00,  1.77it/s]\n",
      "Validate: 100%|██████████| 12/12 [00:02<00:00,  5.70it/s]\n"
     ]
    },
    {
     "name": "stdout",
     "output_type": "stream",
     "text": [
      "Epoch 10/100 | Train Loss: 0.3324, Acc: 0.8916 | Val Loss: 0.3940, Acc: 0.8889\n"
     ]
    },
    {
     "name": "stderr",
     "output_type": "stream",
     "text": [
      "Train Epoch 11/100: 100%|██████████| 205/205 [01:56<00:00,  1.77it/s]\n",
      "Validate: 100%|██████████| 12/12 [00:02<00:00,  5.54it/s]\n"
     ]
    },
    {
     "name": "stdout",
     "output_type": "stream",
     "text": [
      "Epoch 11/100 | Train Loss: 0.3055, Acc: 0.9008 | Val Loss: 0.2809, Acc: 0.9187\n"
     ]
    },
    {
     "name": "stderr",
     "output_type": "stream",
     "text": [
      "Train Epoch 12/100: 100%|██████████| 205/205 [01:56<00:00,  1.76it/s]\n",
      "Validate: 100%|██████████| 12/12 [00:02<00:00,  5.64it/s]\n"
     ]
    },
    {
     "name": "stdout",
     "output_type": "stream",
     "text": [
      "Epoch 12/100 | Train Loss: 0.3065, Acc: 0.8985 | Val Loss: 0.4246, Acc: 0.8618\n"
     ]
    },
    {
     "name": "stderr",
     "output_type": "stream",
     "text": [
      "Train Epoch 13/100: 100%|██████████| 205/205 [01:56<00:00,  1.77it/s]\n",
      "Validate: 100%|██████████| 12/12 [00:02<00:00,  5.65it/s]\n"
     ]
    },
    {
     "name": "stdout",
     "output_type": "stream",
     "text": [
      "Epoch 13/100 | Train Loss: 0.3010, Acc: 0.8994 | Val Loss: 0.3203, Acc: 0.9051\n"
     ]
    },
    {
     "name": "stderr",
     "output_type": "stream",
     "text": [
      "Train Epoch 14/100: 100%|██████████| 205/205 [01:56<00:00,  1.76it/s]\n",
      "Validate: 100%|██████████| 12/12 [00:02<00:00,  5.66it/s]\n"
     ]
    },
    {
     "name": "stdout",
     "output_type": "stream",
     "text": [
      "Epoch 14/100 | Train Loss: 0.3049, Acc: 0.8999 | Val Loss: 0.2672, Acc: 0.9241\n"
     ]
    },
    {
     "name": "stderr",
     "output_type": "stream",
     "text": [
      "Train Epoch 15/100: 100%|██████████| 205/205 [01:55<00:00,  1.77it/s]\n",
      "Validate: 100%|██████████| 12/12 [00:02<00:00,  5.70it/s]\n"
     ]
    },
    {
     "name": "stdout",
     "output_type": "stream",
     "text": [
      "Epoch 15/100 | Train Loss: 0.2667, Acc: 0.9141 | Val Loss: 0.3121, Acc: 0.9214\n"
     ]
    },
    {
     "name": "stderr",
     "output_type": "stream",
     "text": [
      "Train Epoch 16/100: 100%|██████████| 205/205 [01:56<00:00,  1.76it/s]\n",
      "Validate: 100%|██████████| 12/12 [00:02<00:00,  5.67it/s]\n"
     ]
    },
    {
     "name": "stdout",
     "output_type": "stream",
     "text": [
      "Epoch 16/100 | Train Loss: 0.2700, Acc: 0.9109 | Val Loss: 0.3528, Acc: 0.8970\n"
     ]
    },
    {
     "name": "stderr",
     "output_type": "stream",
     "text": [
      "Train Epoch 17/100: 100%|██████████| 205/205 [01:56<00:00,  1.77it/s]\n",
      "Validate: 100%|██████████| 12/12 [00:02<00:00,  5.65it/s]\n"
     ]
    },
    {
     "name": "stdout",
     "output_type": "stream",
     "text": [
      "Epoch 17/100 | Train Loss: 0.2856, Acc: 0.9040 | Val Loss: 0.2590, Acc: 0.9241\n"
     ]
    },
    {
     "name": "stderr",
     "output_type": "stream",
     "text": [
      "Train Epoch 18/100: 100%|██████████| 205/205 [01:56<00:00,  1.77it/s]\n",
      "Validate: 100%|██████████| 12/12 [00:02<00:00,  5.67it/s]\n"
     ]
    },
    {
     "name": "stdout",
     "output_type": "stream",
     "text": [
      "Epoch 18/100 | Train Loss: 0.2465, Acc: 0.9207 | Val Loss: 0.2331, Acc: 0.9241\n"
     ]
    },
    {
     "name": "stderr",
     "output_type": "stream",
     "text": [
      "Train Epoch 19/100: 100%|██████████| 205/205 [01:55<00:00,  1.77it/s]\n",
      "Validate: 100%|██████████| 12/12 [00:02<00:00,  5.67it/s]\n"
     ]
    },
    {
     "name": "stdout",
     "output_type": "stream",
     "text": [
      "Epoch 19/100 | Train Loss: 0.2326, Acc: 0.9239 | Val Loss: 0.3320, Acc: 0.9187\n"
     ]
    },
    {
     "name": "stderr",
     "output_type": "stream",
     "text": [
      "Train Epoch 20/100: 100%|██████████| 205/205 [01:56<00:00,  1.76it/s]\n",
      "Validate: 100%|██████████| 12/12 [00:02<00:00,  5.67it/s]\n"
     ]
    },
    {
     "name": "stdout",
     "output_type": "stream",
     "text": [
      "Epoch 20/100 | Train Loss: 0.2394, Acc: 0.9234 | Val Loss: 0.3127, Acc: 0.9024\n"
     ]
    },
    {
     "name": "stderr",
     "output_type": "stream",
     "text": [
      "Train Epoch 21/100: 100%|██████████| 205/205 [01:56<00:00,  1.77it/s]\n",
      "Validate: 100%|██████████| 12/12 [00:02<00:00,  5.70it/s]\n"
     ]
    },
    {
     "name": "stdout",
     "output_type": "stream",
     "text": [
      "Epoch 21/100 | Train Loss: 0.2290, Acc: 0.9249 | Val Loss: 0.2887, Acc: 0.9079\n"
     ]
    },
    {
     "name": "stderr",
     "output_type": "stream",
     "text": [
      "Train Epoch 22/100: 100%|██████████| 205/205 [01:56<00:00,  1.76it/s]\n",
      "Validate: 100%|██████████| 12/12 [00:02<00:00,  5.64it/s]\n"
     ]
    },
    {
     "name": "stdout",
     "output_type": "stream",
     "text": [
      "Epoch 22/100 | Train Loss: 0.2183, Acc: 0.9300 | Val Loss: 0.2697, Acc: 0.9241\n"
     ]
    },
    {
     "name": "stderr",
     "output_type": "stream",
     "text": [
      "Train Epoch 23/100: 100%|██████████| 205/205 [01:56<00:00,  1.76it/s]\n",
      "Validate: 100%|██████████| 12/12 [00:02<00:00,  5.37it/s]\n"
     ]
    },
    {
     "name": "stdout",
     "output_type": "stream",
     "text": [
      "Epoch 23/100 | Train Loss: 0.2269, Acc: 0.9263 | Val Loss: 0.2051, Acc: 0.9431\n"
     ]
    },
    {
     "name": "stderr",
     "output_type": "stream",
     "text": [
      "Train Epoch 24/100: 100%|██████████| 205/205 [01:56<00:00,  1.76it/s]\n",
      "Validate: 100%|██████████| 12/12 [00:02<00:00,  5.67it/s]\n"
     ]
    },
    {
     "name": "stdout",
     "output_type": "stream",
     "text": [
      "Epoch 24/100 | Train Loss: 0.2208, Acc: 0.9260 | Val Loss: 0.2830, Acc: 0.9295\n"
     ]
    },
    {
     "name": "stderr",
     "output_type": "stream",
     "text": [
      "Train Epoch 25/100: 100%|██████████| 205/205 [01:55<00:00,  1.77it/s]\n",
      "Validate: 100%|██████████| 12/12 [00:02<00:00,  5.66it/s]\n"
     ]
    },
    {
     "name": "stdout",
     "output_type": "stream",
     "text": [
      "Epoch 25/100 | Train Loss: 0.2237, Acc: 0.9289 | Val Loss: 0.2794, Acc: 0.9241\n"
     ]
    },
    {
     "name": "stderr",
     "output_type": "stream",
     "text": [
      "Train Epoch 26/100: 100%|██████████| 205/205 [01:56<00:00,  1.76it/s]\n",
      "Validate: 100%|██████████| 12/12 [00:02<00:00,  5.59it/s]\n"
     ]
    },
    {
     "name": "stdout",
     "output_type": "stream",
     "text": [
      "Epoch 26/100 | Train Loss: 0.2250, Acc: 0.9268 | Val Loss: 0.2738, Acc: 0.9268\n"
     ]
    },
    {
     "name": "stderr",
     "output_type": "stream",
     "text": [
      "Train Epoch 27/100: 100%|██████████| 205/205 [01:56<00:00,  1.76it/s]\n",
      "Validate: 100%|██████████| 12/12 [00:02<00:00,  5.63it/s]\n"
     ]
    },
    {
     "name": "stdout",
     "output_type": "stream",
     "text": [
      "Epoch 27/100 | Train Loss: 0.2168, Acc: 0.9323 | Val Loss: 0.2330, Acc: 0.9350\n"
     ]
    },
    {
     "name": "stderr",
     "output_type": "stream",
     "text": [
      "Train Epoch 28/100: 100%|██████████| 205/205 [01:56<00:00,  1.76it/s]\n",
      "Validate: 100%|██████████| 12/12 [00:02<00:00,  5.61it/s]\n"
     ]
    },
    {
     "name": "stdout",
     "output_type": "stream",
     "text": [
      "Epoch 28/100 | Train Loss: 0.1944, Acc: 0.9370 | Val Loss: 0.2817, Acc: 0.9322\n"
     ]
    },
    {
     "name": "stderr",
     "output_type": "stream",
     "text": [
      "Train Epoch 29/100: 100%|██████████| 205/205 [01:56<00:00,  1.76it/s]\n",
      "Validate: 100%|██████████| 12/12 [00:02<00:00,  5.62it/s]\n"
     ]
    },
    {
     "name": "stdout",
     "output_type": "stream",
     "text": [
      "Epoch 29/100 | Train Loss: 0.1889, Acc: 0.9401 | Val Loss: 0.2924, Acc: 0.9160\n"
     ]
    },
    {
     "name": "stderr",
     "output_type": "stream",
     "text": [
      "Train Epoch 30/100: 100%|██████████| 205/205 [01:56<00:00,  1.76it/s]\n",
      "Validate: 100%|██████████| 12/12 [00:02<00:00,  5.32it/s]\n"
     ]
    },
    {
     "name": "stdout",
     "output_type": "stream",
     "text": [
      "Epoch 30/100 | Train Loss: 0.1902, Acc: 0.9387 | Val Loss: 0.2099, Acc: 0.9377\n"
     ]
    },
    {
     "name": "stderr",
     "output_type": "stream",
     "text": [
      "Train Epoch 31/100: 100%|██████████| 205/205 [01:56<00:00,  1.76it/s]\n",
      "Validate: 100%|██████████| 12/12 [00:02<00:00,  5.61it/s]\n"
     ]
    },
    {
     "name": "stdout",
     "output_type": "stream",
     "text": [
      "Epoch 31/100 | Train Loss: 0.2044, Acc: 0.9309 | Val Loss: 0.4154, Acc: 0.8970\n"
     ]
    },
    {
     "name": "stderr",
     "output_type": "stream",
     "text": [
      "Train Epoch 32/100: 100%|██████████| 205/205 [01:56<00:00,  1.76it/s]\n",
      "Validate: 100%|██████████| 12/12 [00:02<00:00,  5.64it/s]\n"
     ]
    },
    {
     "name": "stdout",
     "output_type": "stream",
     "text": [
      "Epoch 32/100 | Train Loss: 0.1878, Acc: 0.9382 | Val Loss: 0.2828, Acc: 0.9106\n"
     ]
    },
    {
     "name": "stderr",
     "output_type": "stream",
     "text": [
      "Train Epoch 33/100: 100%|██████████| 205/205 [01:56<00:00,  1.76it/s]\n",
      "Validate: 100%|██████████| 12/12 [00:02<00:00,  5.59it/s]\n"
     ]
    },
    {
     "name": "stdout",
     "output_type": "stream",
     "text": [
      "Epoch 33/100 | Train Loss: 0.1820, Acc: 0.9401 | Val Loss: 0.1967, Acc: 0.9350\n"
     ]
    },
    {
     "name": "stderr",
     "output_type": "stream",
     "text": [
      "Train Epoch 34/100: 100%|██████████| 205/205 [01:56<00:00,  1.76it/s]\n",
      "Validate: 100%|██████████| 12/12 [00:02<00:00,  5.64it/s]\n"
     ]
    },
    {
     "name": "stdout",
     "output_type": "stream",
     "text": [
      "Epoch 34/100 | Train Loss: 0.1774, Acc: 0.9448 | Val Loss: 0.2954, Acc: 0.9350\n"
     ]
    },
    {
     "name": "stderr",
     "output_type": "stream",
     "text": [
      "Train Epoch 35/100: 100%|██████████| 205/205 [01:55<00:00,  1.77it/s]\n",
      "Validate: 100%|██████████| 12/12 [00:02<00:00,  5.71it/s]\n"
     ]
    },
    {
     "name": "stdout",
     "output_type": "stream",
     "text": [
      "Epoch 35/100 | Train Loss: 0.1471, Acc: 0.9517 | Val Loss: 0.2932, Acc: 0.9187\n"
     ]
    },
    {
     "name": "stderr",
     "output_type": "stream",
     "text": [
      "Train Epoch 36/100: 100%|██████████| 205/205 [01:55<00:00,  1.78it/s]\n",
      "Validate: 100%|██████████| 12/12 [00:02<00:00,  5.65it/s]\n"
     ]
    },
    {
     "name": "stdout",
     "output_type": "stream",
     "text": [
      "Epoch 36/100 | Train Loss: 0.1773, Acc: 0.9422 | Val Loss: 0.3136, Acc: 0.9187\n"
     ]
    },
    {
     "name": "stderr",
     "output_type": "stream",
     "text": [
      "Train Epoch 37/100: 100%|██████████| 205/205 [01:56<00:00,  1.76it/s]\n",
      "Validate: 100%|██████████| 12/12 [00:02<00:00,  5.61it/s]\n"
     ]
    },
    {
     "name": "stdout",
     "output_type": "stream",
     "text": [
      "Epoch 37/100 | Train Loss: 0.1657, Acc: 0.9453 | Val Loss: 0.2281, Acc: 0.9458\n"
     ]
    },
    {
     "name": "stderr",
     "output_type": "stream",
     "text": [
      "Train Epoch 38/100: 100%|██████████| 205/205 [01:56<00:00,  1.76it/s]\n",
      "Validate: 100%|██████████| 12/12 [00:02<00:00,  5.67it/s]\n"
     ]
    },
    {
     "name": "stdout",
     "output_type": "stream",
     "text": [
      "Epoch 38/100 | Train Loss: 0.1673, Acc: 0.9454 | Val Loss: 0.2319, Acc: 0.9485\n"
     ]
    },
    {
     "name": "stderr",
     "output_type": "stream",
     "text": [
      "Train Epoch 39/100: 100%|██████████| 205/205 [01:56<00:00,  1.76it/s]\n",
      "Validate: 100%|██████████| 12/12 [00:02<00:00,  5.69it/s]\n"
     ]
    },
    {
     "name": "stdout",
     "output_type": "stream",
     "text": [
      "Epoch 39/100 | Train Loss: 0.1771, Acc: 0.9405 | Val Loss: 0.1609, Acc: 0.9512\n"
     ]
    },
    {
     "name": "stderr",
     "output_type": "stream",
     "text": [
      "Train Epoch 40/100: 100%|██████████| 205/205 [01:56<00:00,  1.77it/s]\n",
      "Validate: 100%|██████████| 12/12 [00:02<00:00,  5.62it/s]\n"
     ]
    },
    {
     "name": "stdout",
     "output_type": "stream",
     "text": [
      "Epoch 40/100 | Train Loss: 0.1601, Acc: 0.9465 | Val Loss: 0.2794, Acc: 0.9241\n"
     ]
    },
    {
     "name": "stderr",
     "output_type": "stream",
     "text": [
      "Train Epoch 41/100: 100%|██████████| 205/205 [01:56<00:00,  1.76it/s]\n",
      "Validate: 100%|██████████| 12/12 [00:02<00:00,  5.59it/s]\n"
     ]
    },
    {
     "name": "stdout",
     "output_type": "stream",
     "text": [
      "Epoch 41/100 | Train Loss: 0.1412, Acc: 0.9541 | Val Loss: 0.2533, Acc: 0.9377\n"
     ]
    },
    {
     "name": "stderr",
     "output_type": "stream",
     "text": [
      "Train Epoch 42/100: 100%|██████████| 205/205 [01:56<00:00,  1.76it/s]\n",
      "Validate: 100%|██████████| 12/12 [00:02<00:00,  5.58it/s]\n"
     ]
    },
    {
     "name": "stdout",
     "output_type": "stream",
     "text": [
      "Epoch 42/100 | Train Loss: 0.1506, Acc: 0.9518 | Val Loss: 0.2260, Acc: 0.9485\n"
     ]
    },
    {
     "name": "stderr",
     "output_type": "stream",
     "text": [
      "Train Epoch 43/100: 100%|██████████| 205/205 [01:56<00:00,  1.76it/s]\n",
      "Validate: 100%|██████████| 12/12 [00:02<00:00,  5.64it/s]\n"
     ]
    },
    {
     "name": "stdout",
     "output_type": "stream",
     "text": [
      "Epoch 43/100 | Train Loss: 0.1456, Acc: 0.9540 | Val Loss: 0.2299, Acc: 0.9377\n"
     ]
    },
    {
     "name": "stderr",
     "output_type": "stream",
     "text": [
      "Train Epoch 44/100: 100%|██████████| 205/205 [01:55<00:00,  1.77it/s]\n",
      "Validate: 100%|██████████| 12/12 [00:02<00:00,  5.70it/s]\n"
     ]
    },
    {
     "name": "stdout",
     "output_type": "stream",
     "text": [
      "Epoch 44/100 | Train Loss: 0.1424, Acc: 0.9518 | Val Loss: 0.2509, Acc: 0.9485\n"
     ]
    },
    {
     "name": "stderr",
     "output_type": "stream",
     "text": [
      "Train Epoch 45/100: 100%|██████████| 205/205 [01:56<00:00,  1.76it/s]\n",
      "Validate: 100%|██████████| 12/12 [00:02<00:00,  5.47it/s]\n"
     ]
    },
    {
     "name": "stdout",
     "output_type": "stream",
     "text": [
      "Epoch 45/100 | Train Loss: 0.1293, Acc: 0.9600 | Val Loss: 0.3150, Acc: 0.9322\n"
     ]
    },
    {
     "name": "stderr",
     "output_type": "stream",
     "text": [
      "Train Epoch 46/100: 100%|██████████| 205/205 [01:56<00:00,  1.76it/s]\n",
      "Validate: 100%|██████████| 12/12 [00:02<00:00,  5.64it/s]\n"
     ]
    },
    {
     "name": "stdout",
     "output_type": "stream",
     "text": [
      "Epoch 46/100 | Train Loss: 0.1493, Acc: 0.9551 | Val Loss: 0.2436, Acc: 0.9377\n"
     ]
    },
    {
     "name": "stderr",
     "output_type": "stream",
     "text": [
      "Train Epoch 47/100: 100%|██████████| 205/205 [01:56<00:00,  1.76it/s]\n",
      "Validate: 100%|██████████| 12/12 [00:02<00:00,  5.62it/s]\n"
     ]
    },
    {
     "name": "stdout",
     "output_type": "stream",
     "text": [
      "Epoch 47/100 | Train Loss: 0.1317, Acc: 0.9569 | Val Loss: 0.2236, Acc: 0.9458\n"
     ]
    },
    {
     "name": "stderr",
     "output_type": "stream",
     "text": [
      "Train Epoch 48/100: 100%|██████████| 205/205 [01:56<00:00,  1.76it/s]\n",
      "Validate: 100%|██████████| 12/12 [00:02<00:00,  5.61it/s]\n"
     ]
    },
    {
     "name": "stdout",
     "output_type": "stream",
     "text": [
      "Epoch 48/100 | Train Loss: 0.1369, Acc: 0.9531 | Val Loss: 0.1842, Acc: 0.9458\n"
     ]
    },
    {
     "name": "stderr",
     "output_type": "stream",
     "text": [
      "Train Epoch 49/100: 100%|██████████| 205/205 [01:56<00:00,  1.76it/s]\n",
      "Validate: 100%|██████████| 12/12 [00:02<00:00,  5.65it/s]\n"
     ]
    },
    {
     "name": "stdout",
     "output_type": "stream",
     "text": [
      "Epoch 49/100 | Train Loss: 0.1206, Acc: 0.9589 | Val Loss: 0.2545, Acc: 0.9322\n"
     ]
    },
    {
     "name": "stderr",
     "output_type": "stream",
     "text": [
      "Train Epoch 50/100: 100%|██████████| 205/205 [01:55<00:00,  1.77it/s]\n",
      "Validate: 100%|██████████| 12/12 [00:02<00:00,  5.67it/s]\n"
     ]
    },
    {
     "name": "stdout",
     "output_type": "stream",
     "text": [
      "Epoch 50/100 | Train Loss: 0.1300, Acc: 0.9574 | Val Loss: 0.1985, Acc: 0.9512\n"
     ]
    },
    {
     "name": "stderr",
     "output_type": "stream",
     "text": [
      "Train Epoch 51/100: 100%|██████████| 205/205 [01:56<00:00,  1.76it/s]\n",
      "Validate: 100%|██████████| 12/12 [00:02<00:00,  5.43it/s]\n"
     ]
    },
    {
     "name": "stdout",
     "output_type": "stream",
     "text": [
      "Epoch 51/100 | Train Loss: 0.1148, Acc: 0.9629 | Val Loss: 0.1832, Acc: 0.9566\n"
     ]
    },
    {
     "name": "stderr",
     "output_type": "stream",
     "text": [
      "Train Epoch 52/100: 100%|██████████| 205/205 [01:56<00:00,  1.76it/s]\n",
      "Validate: 100%|██████████| 12/12 [00:02<00:00,  5.65it/s]\n"
     ]
    },
    {
     "name": "stdout",
     "output_type": "stream",
     "text": [
      "Epoch 52/100 | Train Loss: 0.1135, Acc: 0.9624 | Val Loss: 0.2711, Acc: 0.9431\n"
     ]
    },
    {
     "name": "stderr",
     "output_type": "stream",
     "text": [
      "Train Epoch 53/100: 100%|██████████| 205/205 [01:56<00:00,  1.77it/s]\n",
      "Validate: 100%|██████████| 12/12 [00:02<00:00,  5.65it/s]\n"
     ]
    },
    {
     "name": "stdout",
     "output_type": "stream",
     "text": [
      "Epoch 53/100 | Train Loss: 0.1163, Acc: 0.9639 | Val Loss: 0.1843, Acc: 0.9593\n"
     ]
    },
    {
     "name": "stderr",
     "output_type": "stream",
     "text": [
      "Train Epoch 54/100: 100%|██████████| 205/205 [01:56<00:00,  1.76it/s]\n",
      "Validate: 100%|██████████| 12/12 [00:02<00:00,  5.52it/s]\n"
     ]
    },
    {
     "name": "stdout",
     "output_type": "stream",
     "text": [
      "Epoch 54/100 | Train Loss: 0.1197, Acc: 0.9610 | Val Loss: 0.2001, Acc: 0.9539\n"
     ]
    },
    {
     "name": "stderr",
     "output_type": "stream",
     "text": [
      "Train Epoch 55/100: 100%|██████████| 205/205 [01:56<00:00,  1.76it/s]\n",
      "Validate: 100%|██████████| 12/12 [00:02<00:00,  5.66it/s]\n"
     ]
    },
    {
     "name": "stdout",
     "output_type": "stream",
     "text": [
      "Epoch 55/100 | Train Loss: 0.1075, Acc: 0.9644 | Val Loss: 0.2223, Acc: 0.9512\n"
     ]
    },
    {
     "name": "stderr",
     "output_type": "stream",
     "text": [
      "Train Epoch 56/100: 100%|██████████| 205/205 [01:55<00:00,  1.77it/s]\n",
      "Validate: 100%|██████████| 12/12 [00:02<00:00,  5.62it/s]\n"
     ]
    },
    {
     "name": "stdout",
     "output_type": "stream",
     "text": [
      "Epoch 56/100 | Train Loss: 0.0985, Acc: 0.9681 | Val Loss: 0.2154, Acc: 0.9485\n"
     ]
    },
    {
     "name": "stderr",
     "output_type": "stream",
     "text": [
      "Train Epoch 57/100: 100%|██████████| 205/205 [01:56<00:00,  1.77it/s]\n",
      "Validate: 100%|██████████| 12/12 [00:02<00:00,  5.56it/s]\n"
     ]
    },
    {
     "name": "stdout",
     "output_type": "stream",
     "text": [
      "Epoch 57/100 | Train Loss: 0.1055, Acc: 0.9664 | Val Loss: 0.2338, Acc: 0.9512\n"
     ]
    },
    {
     "name": "stderr",
     "output_type": "stream",
     "text": [
      "Train Epoch 58/100: 100%|██████████| 205/205 [01:56<00:00,  1.76it/s]\n",
      "Validate: 100%|██████████| 12/12 [00:02<00:00,  5.69it/s]\n"
     ]
    },
    {
     "name": "stdout",
     "output_type": "stream",
     "text": [
      "Epoch 58/100 | Train Loss: 0.1111, Acc: 0.9648 | Val Loss: 0.1965, Acc: 0.9566\n"
     ]
    },
    {
     "name": "stderr",
     "output_type": "stream",
     "text": [
      "Train Epoch 59/100: 100%|██████████| 205/205 [01:55<00:00,  1.77it/s]\n",
      "Validate: 100%|██████████| 12/12 [00:02<00:00,  5.67it/s]\n"
     ]
    },
    {
     "name": "stdout",
     "output_type": "stream",
     "text": [
      "Epoch 59/100 | Train Loss: 0.0898, Acc: 0.9705 | Val Loss: 0.2312, Acc: 0.9485\n"
     ]
    },
    {
     "name": "stderr",
     "output_type": "stream",
     "text": [
      "Train Epoch 60/100: 100%|██████████| 205/205 [01:56<00:00,  1.76it/s]\n",
      "Validate: 100%|██████████| 12/12 [00:02<00:00,  5.60it/s]\n"
     ]
    },
    {
     "name": "stdout",
     "output_type": "stream",
     "text": [
      "Epoch 60/100 | Train Loss: 0.0999, Acc: 0.9685 | Val Loss: 0.2208, Acc: 0.9485\n"
     ]
    },
    {
     "name": "stderr",
     "output_type": "stream",
     "text": [
      "Train Epoch 61/100: 100%|██████████| 205/205 [01:56<00:00,  1.76it/s]\n",
      "Validate: 100%|██████████| 12/12 [00:02<00:00,  5.64it/s]\n"
     ]
    },
    {
     "name": "stdout",
     "output_type": "stream",
     "text": [
      "Epoch 61/100 | Train Loss: 0.0980, Acc: 0.9662 | Val Loss: 0.2221, Acc: 0.9485\n"
     ]
    },
    {
     "name": "stderr",
     "output_type": "stream",
     "text": [
      "Train Epoch 62/100: 100%|██████████| 205/205 [01:56<00:00,  1.76it/s]\n",
      "Validate: 100%|██████████| 12/12 [00:02<00:00,  5.37it/s]\n"
     ]
    },
    {
     "name": "stdout",
     "output_type": "stream",
     "text": [
      "Epoch 62/100 | Train Loss: 0.0905, Acc: 0.9710 | Val Loss: 0.1928, Acc: 0.9566\n"
     ]
    },
    {
     "name": "stderr",
     "output_type": "stream",
     "text": [
      "Train Epoch 63/100: 100%|██████████| 205/205 [01:56<00:00,  1.77it/s]\n",
      "Validate: 100%|██████████| 12/12 [00:02<00:00,  5.61it/s]\n"
     ]
    },
    {
     "name": "stdout",
     "output_type": "stream",
     "text": [
      "Epoch 63/100 | Train Loss: 0.0886, Acc: 0.9720 | Val Loss: 0.2069, Acc: 0.9593\n"
     ]
    },
    {
     "name": "stderr",
     "output_type": "stream",
     "text": [
      "Train Epoch 64/100: 100%|██████████| 205/205 [01:56<00:00,  1.76it/s]\n",
      "Validate: 100%|██████████| 12/12 [00:02<00:00,  5.68it/s]\n"
     ]
    },
    {
     "name": "stdout",
     "output_type": "stream",
     "text": [
      "Epoch 64/100 | Train Loss: 0.0902, Acc: 0.9711 | Val Loss: 0.1985, Acc: 0.9485\n"
     ]
    },
    {
     "name": "stderr",
     "output_type": "stream",
     "text": [
      "Train Epoch 65/100: 100%|██████████| 205/205 [01:56<00:00,  1.75it/s]\n",
      "Validate: 100%|██████████| 12/12 [00:02<00:00,  5.66it/s]\n"
     ]
    },
    {
     "name": "stdout",
     "output_type": "stream",
     "text": [
      "Epoch 65/100 | Train Loss: 0.0877, Acc: 0.9711 | Val Loss: 0.1688, Acc: 0.9702\n"
     ]
    },
    {
     "name": "stderr",
     "output_type": "stream",
     "text": [
      "Train Epoch 66/100: 100%|██████████| 205/205 [01:56<00:00,  1.77it/s]\n",
      "Validate: 100%|██████████| 12/12 [00:02<00:00,  5.73it/s]\n"
     ]
    },
    {
     "name": "stdout",
     "output_type": "stream",
     "text": [
      "Epoch 66/100 | Train Loss: 0.0844, Acc: 0.9713 | Val Loss: 0.1728, Acc: 0.9566\n"
     ]
    },
    {
     "name": "stderr",
     "output_type": "stream",
     "text": [
      "Train Epoch 67/100: 100%|██████████| 205/205 [01:55<00:00,  1.78it/s]\n",
      "Validate: 100%|██████████| 12/12 [00:02<00:00,  5.68it/s]\n"
     ]
    },
    {
     "name": "stdout",
     "output_type": "stream",
     "text": [
      "Epoch 67/100 | Train Loss: 0.0807, Acc: 0.9740 | Val Loss: 0.1706, Acc: 0.9648\n"
     ]
    },
    {
     "name": "stderr",
     "output_type": "stream",
     "text": [
      "Train Epoch 68/100: 100%|██████████| 205/205 [01:55<00:00,  1.77it/s]\n",
      "Validate: 100%|██████████| 12/12 [00:02<00:00,  5.62it/s]\n"
     ]
    },
    {
     "name": "stdout",
     "output_type": "stream",
     "text": [
      "Epoch 68/100 | Train Loss: 0.0812, Acc: 0.9732 | Val Loss: 0.1361, Acc: 0.9648\n"
     ]
    },
    {
     "name": "stderr",
     "output_type": "stream",
     "text": [
      "Train Epoch 69/100: 100%|██████████| 205/205 [01:56<00:00,  1.76it/s]\n",
      "Validate: 100%|██████████| 12/12 [00:02<00:00,  5.61it/s]\n"
     ]
    },
    {
     "name": "stdout",
     "output_type": "stream",
     "text": [
      "Epoch 69/100 | Train Loss: 0.0757, Acc: 0.9742 | Val Loss: 0.1727, Acc: 0.9648\n"
     ]
    },
    {
     "name": "stderr",
     "output_type": "stream",
     "text": [
      "Train Epoch 70/100: 100%|██████████| 205/205 [01:56<00:00,  1.76it/s]\n",
      "Validate: 100%|██████████| 12/12 [00:02<00:00,  5.67it/s]\n"
     ]
    },
    {
     "name": "stdout",
     "output_type": "stream",
     "text": [
      "Epoch 70/100 | Train Loss: 0.0739, Acc: 0.9740 | Val Loss: 0.1780, Acc: 0.9593\n"
     ]
    },
    {
     "name": "stderr",
     "output_type": "stream",
     "text": [
      "Train Epoch 71/100: 100%|██████████| 205/205 [01:55<00:00,  1.77it/s]\n",
      "Validate: 100%|██████████| 12/12 [00:02<00:00,  5.54it/s]\n"
     ]
    },
    {
     "name": "stdout",
     "output_type": "stream",
     "text": [
      "Epoch 71/100 | Train Loss: 0.0710, Acc: 0.9791 | Val Loss: 0.1680, Acc: 0.9675\n"
     ]
    },
    {
     "name": "stderr",
     "output_type": "stream",
     "text": [
      "Train Epoch 72/100: 100%|██████████| 205/205 [01:56<00:00,  1.76it/s]\n",
      "Validate: 100%|██████████| 12/12 [00:02<00:00,  5.57it/s]\n"
     ]
    },
    {
     "name": "stdout",
     "output_type": "stream",
     "text": [
      "Epoch 72/100 | Train Loss: 0.0681, Acc: 0.9774 | Val Loss: 0.1602, Acc: 0.9621\n"
     ]
    },
    {
     "name": "stderr",
     "output_type": "stream",
     "text": [
      "Train Epoch 73/100: 100%|██████████| 205/205 [01:56<00:00,  1.77it/s]\n",
      "Validate: 100%|██████████| 12/12 [00:02<00:00,  5.70it/s]\n"
     ]
    },
    {
     "name": "stdout",
     "output_type": "stream",
     "text": [
      "Epoch 73/100 | Train Loss: 0.0703, Acc: 0.9766 | Val Loss: 0.1437, Acc: 0.9729\n"
     ]
    },
    {
     "name": "stderr",
     "output_type": "stream",
     "text": [
      "Train Epoch 74/100: 100%|██████████| 205/205 [01:56<00:00,  1.76it/s]\n",
      "Validate: 100%|██████████| 12/12 [00:02<00:00,  5.64it/s]\n"
     ]
    },
    {
     "name": "stdout",
     "output_type": "stream",
     "text": [
      "Epoch 74/100 | Train Loss: 0.0726, Acc: 0.9771 | Val Loss: 0.1515, Acc: 0.9648\n"
     ]
    },
    {
     "name": "stderr",
     "output_type": "stream",
     "text": [
      "Train Epoch 75/100: 100%|██████████| 205/205 [01:56<00:00,  1.76it/s]\n",
      "Validate: 100%|██████████| 12/12 [00:02<00:00,  5.71it/s]\n"
     ]
    },
    {
     "name": "stdout",
     "output_type": "stream",
     "text": [
      "Epoch 75/100 | Train Loss: 0.0651, Acc: 0.9783 | Val Loss: 0.1279, Acc: 0.9783\n"
     ]
    },
    {
     "name": "stderr",
     "output_type": "stream",
     "text": [
      "Train Epoch 76/100: 100%|██████████| 205/205 [01:56<00:00,  1.77it/s]\n",
      "Validate: 100%|██████████| 12/12 [00:02<00:00,  5.64it/s]\n"
     ]
    },
    {
     "name": "stdout",
     "output_type": "stream",
     "text": [
      "Epoch 76/100 | Train Loss: 0.0596, Acc: 0.9817 | Val Loss: 0.1220, Acc: 0.9837\n"
     ]
    },
    {
     "name": "stderr",
     "output_type": "stream",
     "text": [
      "Train Epoch 77/100: 100%|██████████| 205/205 [01:56<00:00,  1.77it/s]\n",
      "Validate: 100%|██████████| 12/12 [00:02<00:00,  5.61it/s]\n"
     ]
    },
    {
     "name": "stdout",
     "output_type": "stream",
     "text": [
      "Epoch 77/100 | Train Loss: 0.0606, Acc: 0.9800 | Val Loss: 0.1453, Acc: 0.9729\n"
     ]
    },
    {
     "name": "stderr",
     "output_type": "stream",
     "text": [
      "Train Epoch 78/100: 100%|██████████| 205/205 [01:56<00:00,  1.76it/s]\n",
      "Validate: 100%|██████████| 12/12 [00:02<00:00,  5.56it/s]\n"
     ]
    },
    {
     "name": "stdout",
     "output_type": "stream",
     "text": [
      "Epoch 78/100 | Train Loss: 0.0697, Acc: 0.9762 | Val Loss: 0.1471, Acc: 0.9756\n"
     ]
    },
    {
     "name": "stderr",
     "output_type": "stream",
     "text": [
      "Train Epoch 79/100: 100%|██████████| 205/205 [01:56<00:00,  1.76it/s]\n",
      "Validate: 100%|██████████| 12/12 [00:02<00:00,  5.64it/s]\n"
     ]
    },
    {
     "name": "stdout",
     "output_type": "stream",
     "text": [
      "Epoch 79/100 | Train Loss: 0.0648, Acc: 0.9774 | Val Loss: 0.1432, Acc: 0.9756\n"
     ]
    },
    {
     "name": "stderr",
     "output_type": "stream",
     "text": [
      "Train Epoch 80/100: 100%|██████████| 205/205 [01:56<00:00,  1.76it/s]\n",
      "Validate: 100%|██████████| 12/12 [00:02<00:00,  5.66it/s]\n"
     ]
    },
    {
     "name": "stdout",
     "output_type": "stream",
     "text": [
      "Epoch 80/100 | Train Loss: 0.0540, Acc: 0.9820 | Val Loss: 0.1506, Acc: 0.9729\n"
     ]
    },
    {
     "name": "stderr",
     "output_type": "stream",
     "text": [
      "Train Epoch 81/100: 100%|██████████| 205/205 [01:56<00:00,  1.76it/s]\n",
      "Validate: 100%|██████████| 12/12 [00:02<00:00,  5.62it/s]\n"
     ]
    },
    {
     "name": "stdout",
     "output_type": "stream",
     "text": [
      "Epoch 81/100 | Train Loss: 0.0607, Acc: 0.9789 | Val Loss: 0.1707, Acc: 0.9675\n"
     ]
    },
    {
     "name": "stderr",
     "output_type": "stream",
     "text": [
      "Train Epoch 82/100: 100%|██████████| 205/205 [01:56<00:00,  1.76it/s]\n",
      "Validate: 100%|██████████| 12/12 [00:02<00:00,  5.59it/s]\n"
     ]
    },
    {
     "name": "stdout",
     "output_type": "stream",
     "text": [
      "Epoch 82/100 | Train Loss: 0.0554, Acc: 0.9829 | Val Loss: 0.1539, Acc: 0.9702\n"
     ]
    },
    {
     "name": "stderr",
     "output_type": "stream",
     "text": [
      "Train Epoch 83/100: 100%|██████████| 205/205 [01:56<00:00,  1.76it/s]\n",
      "Validate: 100%|██████████| 12/12 [00:02<00:00,  5.66it/s]\n"
     ]
    },
    {
     "name": "stdout",
     "output_type": "stream",
     "text": [
      "Epoch 83/100 | Train Loss: 0.0515, Acc: 0.9829 | Val Loss: 0.1409, Acc: 0.9783\n"
     ]
    },
    {
     "name": "stderr",
     "output_type": "stream",
     "text": [
      "Train Epoch 84/100: 100%|██████████| 205/205 [01:56<00:00,  1.76it/s]\n",
      "Validate: 100%|██████████| 12/12 [00:02<00:00,  5.66it/s]\n"
     ]
    },
    {
     "name": "stdout",
     "output_type": "stream",
     "text": [
      "Epoch 84/100 | Train Loss: 0.0459, Acc: 0.9849 | Val Loss: 0.1375, Acc: 0.9756\n"
     ]
    },
    {
     "name": "stderr",
     "output_type": "stream",
     "text": [
      "Train Epoch 85/100: 100%|██████████| 205/205 [01:56<00:00,  1.76it/s]\n",
      "Validate: 100%|██████████| 12/12 [00:02<00:00,  5.63it/s]\n"
     ]
    },
    {
     "name": "stdout",
     "output_type": "stream",
     "text": [
      "Epoch 85/100 | Train Loss: 0.0524, Acc: 0.9836 | Val Loss: 0.1472, Acc: 0.9675\n"
     ]
    },
    {
     "name": "stderr",
     "output_type": "stream",
     "text": [
      "Train Epoch 86/100: 100%|██████████| 205/205 [01:55<00:00,  1.77it/s]\n",
      "Validate: 100%|██████████| 12/12 [00:02<00:00,  5.71it/s]\n"
     ]
    },
    {
     "name": "stdout",
     "output_type": "stream",
     "text": [
      "Epoch 86/100 | Train Loss: 0.0512, Acc: 0.9820 | Val Loss: 0.1367, Acc: 0.9756\n"
     ]
    },
    {
     "name": "stderr",
     "output_type": "stream",
     "text": [
      "Train Epoch 87/100: 100%|██████████| 205/205 [01:56<00:00,  1.76it/s]\n",
      "Validate: 100%|██████████| 12/12 [00:02<00:00,  5.64it/s]\n"
     ]
    },
    {
     "name": "stdout",
     "output_type": "stream",
     "text": [
      "Epoch 87/100 | Train Loss: 0.0555, Acc: 0.9824 | Val Loss: 0.1419, Acc: 0.9756\n"
     ]
    },
    {
     "name": "stderr",
     "output_type": "stream",
     "text": [
      "Train Epoch 88/100: 100%|██████████| 205/205 [01:55<00:00,  1.77it/s]\n",
      "Validate: 100%|██████████| 12/12 [00:02<00:00,  5.63it/s]\n"
     ]
    },
    {
     "name": "stdout",
     "output_type": "stream",
     "text": [
      "Epoch 88/100 | Train Loss: 0.0593, Acc: 0.9817 | Val Loss: 0.1352, Acc: 0.9756\n"
     ]
    },
    {
     "name": "stderr",
     "output_type": "stream",
     "text": [
      "Train Epoch 89/100: 100%|██████████| 205/205 [01:56<00:00,  1.77it/s]\n",
      "Validate: 100%|██████████| 12/12 [00:02<00:00,  5.63it/s]\n"
     ]
    },
    {
     "name": "stdout",
     "output_type": "stream",
     "text": [
      "Epoch 89/100 | Train Loss: 0.0457, Acc: 0.9856 | Val Loss: 0.1392, Acc: 0.9756\n"
     ]
    },
    {
     "name": "stderr",
     "output_type": "stream",
     "text": [
      "Train Epoch 90/100: 100%|██████████| 205/205 [01:56<00:00,  1.77it/s]\n",
      "Validate: 100%|██████████| 12/12 [00:02<00:00,  5.61it/s]\n"
     ]
    },
    {
     "name": "stdout",
     "output_type": "stream",
     "text": [
      "Epoch 90/100 | Train Loss: 0.0506, Acc: 0.9841 | Val Loss: 0.1452, Acc: 0.9756\n"
     ]
    },
    {
     "name": "stderr",
     "output_type": "stream",
     "text": [
      "Train Epoch 91/100: 100%|██████████| 205/205 [01:56<00:00,  1.76it/s]\n",
      "Validate: 100%|██████████| 12/12 [00:02<00:00,  5.59it/s]\n"
     ]
    },
    {
     "name": "stdout",
     "output_type": "stream",
     "text": [
      "Epoch 91/100 | Train Loss: 0.0513, Acc: 0.9836 | Val Loss: 0.1465, Acc: 0.9783\n"
     ]
    },
    {
     "name": "stderr",
     "output_type": "stream",
     "text": [
      "Train Epoch 92/100: 100%|██████████| 205/205 [01:56<00:00,  1.76it/s]\n",
      "Validate: 100%|██████████| 12/12 [00:02<00:00,  5.68it/s]\n"
     ]
    },
    {
     "name": "stdout",
     "output_type": "stream",
     "text": [
      "Epoch 92/100 | Train Loss: 0.0467, Acc: 0.9846 | Val Loss: 0.1491, Acc: 0.9783\n"
     ]
    },
    {
     "name": "stderr",
     "output_type": "stream",
     "text": [
      "Train Epoch 93/100: 100%|██████████| 205/205 [01:56<00:00,  1.76it/s]\n",
      "Validate: 100%|██████████| 12/12 [00:02<00:00,  5.68it/s]\n"
     ]
    },
    {
     "name": "stdout",
     "output_type": "stream",
     "text": [
      "Epoch 93/100 | Train Loss: 0.0450, Acc: 0.9856 | Val Loss: 0.1518, Acc: 0.9783\n"
     ]
    },
    {
     "name": "stderr",
     "output_type": "stream",
     "text": [
      "Train Epoch 94/100: 100%|██████████| 205/205 [01:56<00:00,  1.77it/s]\n",
      "Validate: 100%|██████████| 12/12 [00:02<00:00,  5.63it/s]\n"
     ]
    },
    {
     "name": "stdout",
     "output_type": "stream",
     "text": [
      "Epoch 94/100 | Train Loss: 0.0432, Acc: 0.9858 | Val Loss: 0.1516, Acc: 0.9756\n"
     ]
    },
    {
     "name": "stderr",
     "output_type": "stream",
     "text": [
      "Train Epoch 95/100: 100%|██████████| 205/205 [01:56<00:00,  1.77it/s]\n",
      "Validate: 100%|██████████| 12/12 [00:02<00:00,  5.46it/s]\n"
     ]
    },
    {
     "name": "stdout",
     "output_type": "stream",
     "text": [
      "Epoch 95/100 | Train Loss: 0.0494, Acc: 0.9826 | Val Loss: 0.1475, Acc: 0.9783\n"
     ]
    },
    {
     "name": "stderr",
     "output_type": "stream",
     "text": [
      "Train Epoch 96/100: 100%|██████████| 205/205 [01:56<00:00,  1.76it/s]\n",
      "Validate: 100%|██████████| 12/12 [00:02<00:00,  5.69it/s]\n"
     ]
    },
    {
     "name": "stdout",
     "output_type": "stream",
     "text": [
      "Epoch 96/100 | Train Loss: 0.0437, Acc: 0.9849 | Val Loss: 0.1460, Acc: 0.9783\n"
     ]
    },
    {
     "name": "stderr",
     "output_type": "stream",
     "text": [
      "Train Epoch 97/100: 100%|██████████| 205/205 [01:56<00:00,  1.76it/s]\n",
      "Validate: 100%|██████████| 12/12 [00:02<00:00,  5.55it/s]\n"
     ]
    },
    {
     "name": "stdout",
     "output_type": "stream",
     "text": [
      "Epoch 97/100 | Train Loss: 0.0523, Acc: 0.9832 | Val Loss: 0.1463, Acc: 0.9783\n"
     ]
    },
    {
     "name": "stderr",
     "output_type": "stream",
     "text": [
      "Train Epoch 98/100: 100%|██████████| 205/205 [01:56<00:00,  1.76it/s]\n",
      "Validate: 100%|██████████| 12/12 [00:02<00:00,  5.58it/s]\n"
     ]
    },
    {
     "name": "stdout",
     "output_type": "stream",
     "text": [
      "Epoch 98/100 | Train Loss: 0.0487, Acc: 0.9833 | Val Loss: 0.1460, Acc: 0.9783\n"
     ]
    },
    {
     "name": "stderr",
     "output_type": "stream",
     "text": [
      "Train Epoch 99/100: 100%|██████████| 205/205 [01:55<00:00,  1.78it/s]\n",
      "Validate: 100%|██████████| 12/12 [00:02<00:00,  5.67it/s]\n"
     ]
    },
    {
     "name": "stdout",
     "output_type": "stream",
     "text": [
      "Epoch 99/100 | Train Loss: 0.0456, Acc: 0.9852 | Val Loss: 0.1452, Acc: 0.9783\n"
     ]
    },
    {
     "name": "stderr",
     "output_type": "stream",
     "text": [
      "Train Epoch 100/100: 100%|██████████| 205/205 [01:56<00:00,  1.76it/s]\n",
      "Validate: 100%|██████████| 12/12 [00:02<00:00,  5.67it/s]"
     ]
    },
    {
     "name": "stdout",
     "output_type": "stream",
     "text": [
      "Epoch 100/100 | Train Loss: 0.0533, Acc: 0.9830 | Val Loss: 0.1440, Acc: 0.9783\n",
      "Best Validation Accuracy: 0.9837\n",
      "Best model saved to: best_convnext_tiny.pth\n"
     ]
    },
    {
     "name": "stderr",
     "output_type": "stream",
     "text": [
      "\n"
     ]
    }
   ],
   "source": [
    "import os\n",
    "import pandas as pd\n",
    "from PIL import Image\n",
    "import torch\n",
    "import torch.nn as nn\n",
    "import torch.optim as optim\n",
    "from torch.utils.data import Dataset, DataLoader\n",
    "from torchvision import transforms, models\n",
    "from sklearn.metrics import accuracy_score\n",
    "from tqdm import tqdm\n",
    "\n",
    "# 1) Imports & Device Setup\n",
    "device = torch.device('cuda' if torch.cuda.is_available() else 'cpu')\n",
    "\n",
    "# 2) Custom Dataset Definition\n",
    "class RegionDataset(Dataset):\n",
    "    def __init__(self, dataframe, img_dir, transform=None):\n",
    "        self.df = dataframe.reset_index(drop=True)\n",
    "        self.img_dir = img_dir\n",
    "        self.transform = transform\n",
    "\n",
    "    def __len__(self):\n",
    "        return len(self.df)\n",
    "\n",
    "    def __getitem__(self, idx):\n",
    "        row = self.df.iloc[idx]\n",
    "        img_path = os.path.join(self.img_dir, row['filename'])\n",
    "        image = Image.open(img_path).convert('RGB')\n",
    "        if self.transform:\n",
    "            image = self.transform(image)\n",
    "        label = torch.tensor(row['Region_ID'] - 1, dtype=torch.long)\n",
    "        return image, label, row['filename']\n",
    "\n",
    "# 3) Data Transform Pipelines\n",
    "train_transform = transforms.Compose([\n",
    "    transforms.Resize((256, 256)),\n",
    "    transforms.RandomResizedCrop(224),\n",
    "    transforms.RandomHorizontalFlip(),\n",
    "    transforms.ColorJitter(0.2, 0.2, 0.2, 0.1),\n",
    "    transforms.ToTensor(),\n",
    "    transforms.Normalize([0.485, 0.456, 0.406], [0.229, 0.224, 0.225]),\n",
    "])\n",
    "val_transform = transforms.Compose([\n",
    "    transforms.Resize((224, 224)),\n",
    "    transforms.ToTensor(),\n",
    "    transforms.Normalize([0.485, 0.456, 0.406], [0.229, 0.224, 0.225]),\n",
    "])\n",
    "\n",
    "# 4) Loading DataFrames\n",
    "train_csv = '/kaggle/input/smai-project/Phase_2_data/labels_train.csv'\n",
    "val_csv   = '/kaggle/input/smai-project/Phase_2_data/labels_val.csv'\n",
    "train_img_dir = '/kaggle/input/smai-project/Phase_2_data/images_train'\n",
    "val_img_dir   = '/kaggle/input/smai-project/Phase_2_data/images_val'\n",
    "\n",
    "train_df = pd.read_csv(train_csv)\n",
    "val_df   = pd.read_csv(val_csv)\n",
    "\n",
    "# 5) Dataset & DataLoader Construction\n",
    "batch_size = 32\n",
    "train_dataset = RegionDataset(train_df, train_img_dir, train_transform)\n",
    "val_dataset   = RegionDataset(val_df,   val_img_dir,   val_transform)\n",
    "\n",
    "train_loader = DataLoader(train_dataset, batch_size=batch_size, shuffle=True, num_workers=4)\n",
    "val_loader   = DataLoader(val_dataset,   batch_size=batch_size, shuffle=False, num_workers=4)\n",
    "\n",
    "# 6) Model Builder Function\n",
    "def build_model(name='efficientnet_b0', num_classes=15, pretrained=True):\n",
    "    if name == 'efficientnet_b0':\n",
    "        model = models.efficientnet_b0(pretrained=pretrained)\n",
    "        in_features = model.classifier[1].in_features\n",
    "        model.classifier[1] = nn.Linear(in_features, num_classes)\n",
    "    elif name == 'resnet50':\n",
    "        model = models.resnet50(pretrained=pretrained)\n",
    "        in_features = model.fc.in_features\n",
    "        model.fc = nn.Linear(in_features, num_classes)\n",
    "    elif name == 'convnext_tiny':\n",
    "        model = models.convnext_tiny(pretrained=pretrained)\n",
    "        in_features = model.classifier[2].in_features\n",
    "        model.classifier[2] = nn.Linear(in_features, num_classes)\n",
    "    elif name == 'mobilenet_v3_large':\n",
    "        model = models.mobilenet_v3_large(pretrained=pretrained)\n",
    "        in_features = model.classifier[3].in_features\n",
    "        model.classifier[3] = nn.Linear(in_features, num_classes)\n",
    "    else:\n",
    "        raise ValueError(f\"Unsupported model: {name}\")\n",
    "    return model.to(device)\n",
    "\n",
    "# 7) Training & Validation Loop\n",
    "def train_validate(model, train_loader, val_loader, epochs=10, model_name='model'):\n",
    "    criterion = nn.CrossEntropyLoss()\n",
    "    optimizer = optim.AdamW(model.parameters(), lr=3e-4, weight_decay=1e-5)\n",
    "    scheduler = optim.lr_scheduler.CosineAnnealingLR(optimizer, T_max=epochs, eta_min=1e-6)\n",
    "    best_acc = 0.0\n",
    "    best_model_path = f\"best_{model_name}.pth\"\n",
    "\n",
    "    for epoch in range(epochs):\n",
    "        # Training\n",
    "        model.train()\n",
    "        train_loss, all_preds, all_labels = 0.0, [], []\n",
    "        for images, labels, _ in tqdm(train_loader, desc=f\"Train Epoch {epoch+1}/{epochs}\"):\n",
    "            images, labels = images.to(device), labels.to(device)\n",
    "            optimizer.zero_grad()\n",
    "            outputs = model(images)\n",
    "            loss = criterion(outputs, labels)\n",
    "            loss.backward()\n",
    "            optimizer.step()\n",
    "\n",
    "            train_loss += loss.item() * images.size(0)\n",
    "            preds = outputs.argmax(dim=1).cpu().tolist()\n",
    "            all_preds += preds\n",
    "            all_labels += labels.cpu().tolist()\n",
    "\n",
    "        scheduler.step()\n",
    "        train_loss /= len(train_loader.dataset)\n",
    "        train_acc = accuracy_score(all_labels, all_preds)\n",
    "\n",
    "        # Validation\n",
    "        model.eval()\n",
    "        val_loss, all_preds, all_labels, filenames = 0.0, [], [], []\n",
    "        with torch.no_grad():\n",
    "            for images, labels, fn in tqdm(val_loader, desc=\"Validate\"):\n",
    "                images, labels = images.to(device), labels.to(device)\n",
    "                outputs = model(images)\n",
    "                loss = criterion(outputs, labels)\n",
    "                val_loss += loss.item() * images.size(0)\n",
    "                preds = outputs.argmax(dim=1).cpu().tolist()\n",
    "                all_preds += preds\n",
    "                all_labels += labels.cpu().tolist()\n",
    "                filenames += fn\n",
    "\n",
    "        val_loss /= len(val_loader.dataset)\n",
    "        val_acc = accuracy_score(all_labels, all_preds)\n",
    "\n",
    "        # Checkpointing best model\n",
    "        if val_acc > best_acc:\n",
    "            best_acc = val_acc\n",
    "            torch.save(model.state_dict(), best_model_path)\n",
    "            pd.DataFrame({'filename': filenames,\n",
    "                          'pred_region': [p+1 for p in all_preds]}) \\\n",
    "              .to_csv(f\"best_{model_name}_predictions.csv\", index=False)\n",
    "\n",
    "        print(f\"Epoch {epoch+1}/{epochs} | \"\n",
    "              f\"Train Loss: {train_loss:.4f}, Acc: {train_acc:.4f} | \"\n",
    "              f\"Val Loss: {val_loss:.4f}, Acc: {val_acc:.4f}\")\n",
    "\n",
    "    print(f\"Best Validation Accuracy: {best_acc:.4f}\")\n",
    "    print(f\"Best model saved to: {best_model_path}\")\n",
    "    return best_acc\n",
    "\n",
    "# 8) Main Execution\n",
    "if __name__ == \"__main__\":\n",
    "    # Choose from: 'efficientnet_b0', 'resnet50', 'convnext_tiny', 'mobilenet_v3_large'\n",
    "    chosen_model = 'convnext_tiny'\n",
    "    model = build_model(name=chosen_model, num_classes=15, pretrained=True)\n",
    "    _ = train_validate(model, train_loader, val_loader,\n",
    "                       epochs=100, model_name=chosen_model)\n",
    "\n"
   ]
  }
 ],
 "metadata": {
  "kaggle": {
   "accelerator": "nvidiaTeslaT4",
   "dataSources": [
    {
     "datasetId": 7208313,
     "sourceId": 11498424,
     "sourceType": "datasetVersion"
    }
   ],
   "dockerImageVersionId": 31011,
   "isGpuEnabled": true,
   "isInternetEnabled": true,
   "language": "python",
   "sourceType": "notebook"
  },
  "kernelspec": {
   "display_name": "Python 3",
   "language": "python",
   "name": "python3"
  },
  "language_info": {
   "codemirror_mode": {
    "name": "ipython",
    "version": 3
   },
   "file_extension": ".py",
   "mimetype": "text/x-python",
   "name": "python",
   "nbconvert_exporter": "python",
   "pygments_lexer": "ipython3",
   "version": "3.11.11"
  },
  "papermill": {
   "default_parameters": {},
   "duration": 11846.364896,
   "end_time": "2025-05-04T03:21:04.884692",
   "environment_variables": {},
   "exception": null,
   "input_path": "__notebook__.ipynb",
   "output_path": "__notebook__.ipynb",
   "parameters": {},
   "start_time": "2025-05-04T00:03:38.519796",
   "version": "2.6.0"
  }
 },
 "nbformat": 4,
 "nbformat_minor": 5
}
